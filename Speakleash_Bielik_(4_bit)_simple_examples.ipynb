{
  "cells": [
    {
      "cell_type": "markdown",
      "metadata": {
        "id": "V55IAMNhYrP9"
      },
      "source": [
        "<p align=\"center\">\n",
        "  <img src=\"https://huggingface.co/speakleash/Bielik-7B-Instruct-v0.1/raw/main/speakleash_cyfronet.png\">\n",
        "</p>"
      ]
    },
    {
      "cell_type": "markdown",
      "metadata": {
        "id": "dpi-lp87jeIu"
      },
      "source": [
        "### Przygotowanie środowiska"
      ]
    },
    {
      "cell_type": "markdown",
      "metadata": {
        "id": "kAiJLr8y6a8U"
      },
      "source": [
        "W celu instalacji niezbędnych bibliotek z ograniczoną ilością zwracanych informacji, można:\n",
        "- zastosować flagę '-q' (quiet) dla przy każdej bibliotece, która sprawi, że wyświetli się mniej informacji\n",
        "- użyć komendy %%capture na początku komórki, która przechwytuje wyniki wykonywania kodu w danej komórce"
      ]
    },
    {
      "cell_type": "code",
      "execution_count": 20,
      "metadata": {
        "id": "07-4DrcSdEf8",
        "colab": {
          "base_uri": "https://localhost:8080/"
        },
        "outputId": "b73727ad-3551-4f58-d66d-124454d89ee3"
      },
      "outputs": [
        {
          "output_type": "stream",
          "name": "stdout",
          "text": [
            "Requirement already satisfied: accelerate in /usr/local/lib/python3.10/dist-packages (0.32.1)\n",
            "Requirement already satisfied: numpy<2.0.0,>=1.17 in /usr/local/lib/python3.10/dist-packages (from accelerate) (1.26.4)\n",
            "Requirement already satisfied: packaging>=20.0 in /usr/local/lib/python3.10/dist-packages (from accelerate) (24.1)\n",
            "Requirement already satisfied: psutil in /usr/local/lib/python3.10/dist-packages (from accelerate) (5.9.5)\n",
            "Requirement already satisfied: pyyaml in /usr/local/lib/python3.10/dist-packages (from accelerate) (6.0.2)\n",
            "Requirement already satisfied: torch>=1.10.0 in /usr/local/lib/python3.10/dist-packages (from accelerate) (2.4.0+cu121)\n",
            "Requirement already satisfied: huggingface-hub in /usr/local/lib/python3.10/dist-packages (from accelerate) (0.23.5)\n",
            "Requirement already satisfied: safetensors>=0.3.1 in /usr/local/lib/python3.10/dist-packages (from accelerate) (0.4.4)\n",
            "Requirement already satisfied: filelock in /usr/local/lib/python3.10/dist-packages (from torch>=1.10.0->accelerate) (3.15.4)\n",
            "Requirement already satisfied: typing-extensions>=4.8.0 in /usr/local/lib/python3.10/dist-packages (from torch>=1.10.0->accelerate) (4.12.2)\n",
            "Requirement already satisfied: sympy in /usr/local/lib/python3.10/dist-packages (from torch>=1.10.0->accelerate) (1.13.2)\n",
            "Requirement already satisfied: networkx in /usr/local/lib/python3.10/dist-packages (from torch>=1.10.0->accelerate) (3.3)\n",
            "Requirement already satisfied: jinja2 in /usr/local/lib/python3.10/dist-packages (from torch>=1.10.0->accelerate) (3.1.4)\n",
            "Requirement already satisfied: fsspec in /usr/local/lib/python3.10/dist-packages (from torch>=1.10.0->accelerate) (2024.6.1)\n",
            "Requirement already satisfied: requests in /usr/local/lib/python3.10/dist-packages (from huggingface-hub->accelerate) (2.32.3)\n",
            "Requirement already satisfied: tqdm>=4.42.1 in /usr/local/lib/python3.10/dist-packages (from huggingface-hub->accelerate) (4.66.5)\n",
            "Requirement already satisfied: MarkupSafe>=2.0 in /usr/local/lib/python3.10/dist-packages (from jinja2->torch>=1.10.0->accelerate) (2.1.5)\n",
            "Requirement already satisfied: charset-normalizer<4,>=2 in /usr/local/lib/python3.10/dist-packages (from requests->huggingface-hub->accelerate) (3.3.2)\n",
            "Requirement already satisfied: idna<4,>=2.5 in /usr/local/lib/python3.10/dist-packages (from requests->huggingface-hub->accelerate) (3.7)\n",
            "Requirement already satisfied: urllib3<3,>=1.21.1 in /usr/local/lib/python3.10/dist-packages (from requests->huggingface-hub->accelerate) (2.0.7)\n",
            "Requirement already satisfied: certifi>=2017.4.17 in /usr/local/lib/python3.10/dist-packages (from requests->huggingface-hub->accelerate) (2024.7.4)\n",
            "Requirement already satisfied: mpmath<1.4,>=1.1.0 in /usr/local/lib/python3.10/dist-packages (from sympy->torch>=1.10.0->accelerate) (1.3.0)\n",
            "Looking in indexes: https://pypi.org/simple/\n",
            "Requirement already satisfied: bitsandbytes in /usr/local/lib/python3.10/dist-packages (0.43.3)\n",
            "Requirement already satisfied: torch in /usr/local/lib/python3.10/dist-packages (from bitsandbytes) (2.4.0+cu121)\n",
            "Requirement already satisfied: numpy in /usr/local/lib/python3.10/dist-packages (from bitsandbytes) (1.26.4)\n",
            "Requirement already satisfied: filelock in /usr/local/lib/python3.10/dist-packages (from torch->bitsandbytes) (3.15.4)\n",
            "Requirement already satisfied: typing-extensions>=4.8.0 in /usr/local/lib/python3.10/dist-packages (from torch->bitsandbytes) (4.12.2)\n",
            "Requirement already satisfied: sympy in /usr/local/lib/python3.10/dist-packages (from torch->bitsandbytes) (1.13.2)\n",
            "Requirement already satisfied: networkx in /usr/local/lib/python3.10/dist-packages (from torch->bitsandbytes) (3.3)\n",
            "Requirement already satisfied: jinja2 in /usr/local/lib/python3.10/dist-packages (from torch->bitsandbytes) (3.1.4)\n",
            "Requirement already satisfied: fsspec in /usr/local/lib/python3.10/dist-packages (from torch->bitsandbytes) (2024.6.1)\n",
            "Requirement already satisfied: MarkupSafe>=2.0 in /usr/local/lib/python3.10/dist-packages (from jinja2->torch->bitsandbytes) (2.1.5)\n",
            "Requirement already satisfied: mpmath<1.4,>=1.1.0 in /usr/local/lib/python3.10/dist-packages (from sympy->torch->bitsandbytes) (1.3.0)\n"
          ]
        }
      ],
      "source": [
        "!pip install accelerate\n",
        "!pip install -i https://pypi.org/simple/ bitsandbytes"
      ]
    },
    {
      "cell_type": "code",
      "execution_count": 21,
      "metadata": {
        "id": "2iD0O366dg0K"
      },
      "outputs": [],
      "source": [
        "import torch"
      ]
    },
    {
      "cell_type": "code",
      "execution_count": 22,
      "metadata": {
        "id": "YfVY6E7ge6bT"
      },
      "outputs": [],
      "source": [
        "import warnings\n",
        "warnings.filterwarnings(\"ignore\") # tylko na potrzeby naszego demo ;)"
      ]
    },
    {
      "cell_type": "markdown",
      "metadata": {
        "id": "MqfY6a1qgvYi"
      },
      "source": [
        "### Inicjalizacja modelu (4 bit)"
      ]
    },
    {
      "cell_type": "code",
      "execution_count": 23,
      "metadata": {
        "colab": {
          "base_uri": "https://localhost:8080/",
          "height": 66,
          "referenced_widgets": [
            "99b5ea60f942452a9493155a35933dfe",
            "9dfa485bd8a34dc2bfc9825989fda2ac",
            "9739047ea88241a9b19b865bcb4c8ec0",
            "90e369ef225d494eaac7abebc1e529d4",
            "4f32de3c9eb74d0eac6d8f6b60cfe824",
            "ea6d9361c0c04d57a222491d08c5060e",
            "787eba0e024a40b5a8041ae32dff8c48",
            "7bf84a9126e848a1bf457433ab1c6d28",
            "08730d78df05455fa379d79b45d1ee7f",
            "283fc310ceb7485ca815797b6d9b41b0",
            "358ce4c021154f1ca4f2c71f9a031280"
          ]
        },
        "id": "vfWiekAIt0DR",
        "outputId": "1f86f4a9-8c27-4d39-d6af-2855be3f5af9"
      },
      "outputs": [
        {
          "output_type": "stream",
          "name": "stderr",
          "text": [
            "`low_cpu_mem_usage` was None, now set to True since model is quantized.\n"
          ]
        },
        {
          "output_type": "display_data",
          "data": {
            "text/plain": [
              "Loading checkpoint shards:   0%|          | 0/3 [00:00<?, ?it/s]"
            ],
            "application/vnd.jupyter.widget-view+json": {
              "version_major": 2,
              "version_minor": 0,
              "model_id": "99b5ea60f942452a9493155a35933dfe"
            }
          },
          "metadata": {}
        }
      ],
      "source": [
        "from transformers import AutoModelForCausalLM, AutoTokenizer, BitsAndBytesConfig, TextStreamer\n",
        "\n",
        "device = \"cuda\" if torch.cuda.is_available() else \"cpu\"\n",
        "model_name = 'speakleash/Bielik-7B-Instruct-v0.1'\n",
        "load_4_bit = True\n",
        "\n",
        "tokenizer = AutoTokenizer.from_pretrained(model_name)\n",
        "tokenizer.pad_token = tokenizer.eos_token\n",
        "\n",
        "streamer = TextStreamer(tokenizer, skip_prompt=True, skip_special_tokens=True)\n",
        "\n",
        "quantization_config = None\n",
        "\n",
        "if load_4_bit:\n",
        "    quantization_config = BitsAndBytesConfig(\n",
        "            load_in_4bit=True,\n",
        "            bnb_4bit_compute_dtype=torch.bfloat16\n",
        "    )\n",
        "\n",
        "model = AutoModelForCausalLM.from_pretrained(model_name,\n",
        "                                             torch_dtype=torch.bfloat16,\n",
        "                                             quantization_config=quantization_config\n",
        "                                             )"
      ]
    },
    {
      "cell_type": "markdown",
      "metadata": {
        "id": "DMT64Pa06HR1"
      },
      "source": [
        "### Funkcja pomocnicza do generowania odpowiedzi"
      ]
    },
    {
      "cell_type": "code",
      "source": [
        "import uuid\n",
        "import json"
      ],
      "metadata": {
        "id": "LSGf1ciaLyde"
      },
      "execution_count": 24,
      "outputs": []
    },
    {
      "cell_type": "code",
      "execution_count": 25,
      "metadata": {
        "id": "8fyc3sKm4n3J"
      },
      "outputs": [],
      "source": [
        "temperature = 0.7\n",
        "max_tokens = 256\n",
        "top_k = 100\n",
        "top_p = 1\n",
        "\n",
        "\n",
        "def generate(prompt, system=None):\n",
        "    messages = []\n",
        "\n",
        "    if system:\n",
        "        messages.append({\"role\": \"system\", \"content\": system})\n",
        "\n",
        "    messages.append({\"role\": \"user\", \"content\": prompt})\n",
        "\n",
        "    input_ids = tokenizer.apply_chat_template(messages, return_tensors=\"pt\")\n",
        "    model_inputs = input_ids\n",
        "\n",
        "    # Sprawdzenie dostępności CUDA i przeniesienie danych wejściowych na odpowiednie urządzenie (GPU lub CPU)\n",
        "    if torch.cuda.is_available():\n",
        "        model_inputs = input_ids.to(device)\n",
        "\n",
        "    # generowanie odpowiedzi\n",
        "    outputs = model.generate(model_inputs,\n",
        "                             streamer=streamer,\n",
        "                             max_new_tokens=max_tokens,\n",
        "                             do_sample=True if temperature else False,\n",
        "                             temperature=temperature,\n",
        "                             top_k=top_k,\n",
        "                             top_p=top_p)\n",
        "\n",
        "    # zapis do pliku\n",
        "    filename = f\"output{str(uuid.uuid4())[:8]}.txt\"\n",
        "\n",
        "    with open(filename, \"w\") as file:\n",
        "        content = {\n",
        "                \"prompt\": messages,\n",
        "                \"output\": tokenizer.batch_decode(outputs, skip_special_tokens=False)\n",
        "        }\n",
        "        json.dump(content, file, ensure_ascii=False, indent=4)"
      ]
    },
    {
      "cell_type": "markdown",
      "metadata": {
        "id": "bnY_3s0u4My5"
      },
      "source": [
        "#### Test"
      ]
    },
    {
      "cell_type": "code",
      "execution_count": 26,
      "metadata": {
        "colab": {
          "base_uri": "https://localhost:8080/"
        },
        "id": "oOKfgKJU0R_J",
        "outputId": "e020948f-0fed-4c9f-9621-4015c56e5669"
      },
      "outputs": [
        {
          "output_type": "stream",
          "name": "stderr",
          "text": [
            "The attention mask and the pad token id were not set. As a consequence, you may observe unexpected behavior. Please pass your input's `attention_mask` to obtain reliable results.\n",
            "Setting `pad_token_id` to `eos_token_id`:2 for open-end generation.\n"
          ]
        },
        {
          "output_type": "stream",
          "name": "stdout",
          "text": [
            "Cześć! Tak, jestem tutaj. W czym mogę Ci pomóc?\n"
          ]
        }
      ],
      "source": [
        "generate(\"Hej, jesteś tam?\")"
      ]
    },
    {
      "cell_type": "code",
      "execution_count": 27,
      "metadata": {
        "colab": {
          "base_uri": "https://localhost:8080/"
        },
        "id": "GcQHXFZYzSRf",
        "outputId": "171590bf-f851-429f-ab9e-a4ce6a531899"
      },
      "outputs": [
        {
          "output_type": "stream",
          "name": "stderr",
          "text": [
            "The attention mask and the pad token id were not set. As a consequence, you may observe unexpected behavior. Please pass your input's `attention_mask` to obtain reliable results.\n",
            "Setting `pad_token_id` to `eos_token_id`:2 for open-end generation.\n"
          ]
        },
        {
          "output_type": "stream",
          "name": "stdout",
          "text": [
            " Jako programista baz danych specjalizuję się w projektowaniu, tworzeniu i zarządzaniu bazami danych. Współpracuję z klientami w celu identyfikacji ich potrzeb, definiowania struktury danych, implementowania systemów bazodanowych i zarządzania nimi. Moja praca może obejmować różne obszary, od analizy danych po optymalizację wydajności i bezpieczeństwa baz danych. Zazwyczaj jestem konsultantem ds. baz danych, a czasem pełnię rolę lidera projektu. \n",
            "\n",
            "Ostatnio moje zainteresowania poszerzyły się o sztuczną inteligencję (AI). Widzę potencjał w wykorzystywaniu AI do ulepszania tradycyjnych systemów bazodanowych. Chcę rozwijać swoje\n"
          ]
        }
      ],
      "source": [
        "generate(\"Hej, czym się zajmujesz?\", system = \"Jesteś programistą baz danych, który chce rozwijać swoje kompetencje w obszarze AI.\")"
      ]
    },
    {
      "cell_type": "markdown",
      "metadata": {
        "id": "igmwz-HEyeMj"
      },
      "source": [
        "# Przykład 1\n",
        "\n",
        "Po prostu **\"Hello World\"**, a bardziej **\"Witaj świecie!\"**"
      ]
    },
    {
      "cell_type": "code",
      "execution_count": 28,
      "metadata": {
        "colab": {
          "base_uri": "https://localhost:8080/"
        },
        "id": "KpvjcGVFpxu4",
        "outputId": "945a6198-4cbf-4ac7-955f-181fafa72fc8"
      },
      "outputs": [
        {
          "output_type": "stream",
          "name": "stderr",
          "text": [
            "The attention mask and the pad token id were not set. As a consequence, you may observe unexpected behavior. Please pass your input's `attention_mask` to obtain reliable results.\n",
            "Setting `pad_token_id` to `eos_token_id`:2 for open-end generation.\n"
          ]
        },
        {
          "output_type": "stream",
          "name": "stdout",
          "text": [
            " Witaj! Cieszymy się, że do nas dołączyłeś. Jeśli masz jakieś pytania lub potrzebujesz pomocy, służymy pomocą!\n"
          ]
        }
      ],
      "source": [
        "temperature = 1.0\n",
        "max_tokens = 256\n",
        "\n",
        "prompt = \"Witaj świecie!\"\n",
        "generate(prompt)"
      ]
    },
    {
      "cell_type": "markdown",
      "metadata": {
        "id": "ctgLpx6NzCEQ"
      },
      "source": [
        "# Przykład 2\n",
        "\n",
        "Zadawanie pytań otwartych"
      ]
    },
    {
      "cell_type": "code",
      "execution_count": 29,
      "metadata": {
        "id": "QI_BQbT7zO_W"
      },
      "outputs": [],
      "source": [
        "temperature = 0.1\n",
        "max_tokens = 512\n",
        "\n",
        "prompt = \"Co to jest fotosynteza?\""
      ]
    },
    {
      "cell_type": "code",
      "execution_count": 30,
      "metadata": {
        "colab": {
          "base_uri": "https://localhost:8080/"
        },
        "id": "L5nbU9f06FOl",
        "outputId": "55822e6e-de03-49c0-f107-d713e50d5b48"
      },
      "outputs": [
        {
          "output_type": "stream",
          "name": "stderr",
          "text": [
            "The attention mask and the pad token id were not set. As a consequence, you may observe unexpected behavior. Please pass your input's `attention_mask` to obtain reliable results.\n",
            "Setting `pad_token_id` to `eos_token_id`:2 for open-end generation.\n"
          ]
        },
        {
          "output_type": "stream",
          "name": "stdout",
          "text": [
            " Fotosynteza to proces, w którym rośliny, glony i niektóre bakterie przekształcają energię słoneczną w chemiczną energię w postaci glukozy, wykorzystując do tego chlorofil - zielony barwnik obecny w chloroplastach. W trakcie tego procesu rośliny pobierają wodę i dwutlenek węgla z otoczenia, a następnie wykorzystują energię słoneczną do przekształcenia tych składników w glukozę i tlen. Glukoza jest źródłem energii dla roślin, a tlen jest uwalniany do atmosfery jako produkt uboczny. Fotosynteza jest kluczowa dla życia na Ziemi, ponieważ dostarcza tlenu do atmosfery i jest podstawą łańcucha pokarmowego.\n"
          ]
        }
      ],
      "source": [
        "generate(prompt)"
      ]
    },
    {
      "cell_type": "markdown",
      "metadata": {
        "id": "GIE2Tl-c6YRm"
      },
      "source": [
        "# Przykład 3\n",
        "\n",
        "Praca na tekście"
      ]
    },
    {
      "cell_type": "code",
      "execution_count": 31,
      "metadata": {
        "id": "MPBNIITq_Ug8"
      },
      "outputs": [],
      "source": [
        "temperature = 0.1\n",
        "max_tokens = 512"
      ]
    },
    {
      "cell_type": "code",
      "execution_count": 32,
      "metadata": {
        "id": "qqBb_Eio6lhi",
        "colab": {
          "base_uri": "https://localhost:8080/"
        },
        "outputId": "8fc1f252-b7c3-4db1-e0df-353ec5756405"
      },
      "outputs": [
        {
          "output_type": "stream",
          "name": "stderr",
          "text": [
            "The attention mask and the pad token id were not set. As a consequence, you may observe unexpected behavior. Please pass your input's `attention_mask` to obtain reliable results.\n",
            "Setting `pad_token_id` to `eos_token_id`:2 for open-end generation.\n"
          ]
        },
        {
          "output_type": "stream",
          "name": "stdout",
          "text": [
            " Opinia jest negatywna. Autor użył sformułowania \"odsetkach\" w sposób ironiczny, sugerując, że poziom intelektualny osoby, do której się odnosi, jest niski lub ograniczony. Ponadto, użycie słowa \"chleb\" w tym kontekście może wskazywać na brak wyrafinowania lub zrozumienia. Użycie tych słów razem sugeruje, że autor uważa tę osobę za mało inteligentną lub ograniczoną intelektualnie. Jest to negatywna ocena, wyrażona w sposób pośredni poprzez ironię i użycie pewnych słów w sposób krytyczny.\n"
          ]
        }
      ],
      "source": [
        "review = \"Przy waszych odsetkach to tylko chleb i margaryna!\"\n",
        "prompt = f\"Czy podana opinia jest pozytywna czy negatywna i wyjaśnij to obszernie.\\n\\n###OPINIA:\\n{review}\"\n",
        "\n",
        "generate(prompt)"
      ]
    },
    {
      "cell_type": "code",
      "execution_count": 33,
      "metadata": {
        "colab": {
          "base_uri": "https://localhost:8080/"
        },
        "id": "BugZibbv8A0V",
        "outputId": "c12e97bd-7bf8-40ae-8fd9-dbc148568bae"
      },
      "outputs": [
        {
          "output_type": "stream",
          "name": "stderr",
          "text": [
            "The attention mask and the pad token id were not set. As a consequence, you may observe unexpected behavior. Please pass your input's `attention_mask` to obtain reliable results.\n",
            "Setting `pad_token_id` to `eos_token_id`:2 for open-end generation.\n"
          ]
        },
        {
          "output_type": "stream",
          "name": "stdout",
          "text": [
            " Dziękujemy za wyrażenie swojej opinii. Jesteśmy świadomi, że może być obszar do poprawy w obszarze odsetek. Cieszymy się, że zwróciłeś uwagę na te aspekty i doceniamy Twoje zaangażowanie w doskonalenie naszych usług. Będziemy kontynuować monitorowanie Twoich doświadczeń oraz wszystkich naszych klientów, aby stale ulepszać jakość naszych produktów i usług.\n",
            "\n",
            "Jeśli masz jakieś konkretne sugestie dotyczące tego, jak możemy poprawić doświadczenia naszych klientów, prosimy o kontakt. Chcemy zapewnić, że Twoje zdanie jest dla nas ważne i pomoże nam dostosować się do potrzeb naszych klientów.\n"
          ]
        }
      ],
      "source": [
        "system = \"Pracujesz jako specjalista od zarządzania jakością w banku i badasz doświadczenia klientów. Analizujesz opinie, wskazujesz pozytywne aspekty, na które zwrócili uwagę klienci oraz obszary do poprawy. Odpowiadasz w języku polskim.\"\n",
        "\n",
        "generate(review, system)"
      ]
    },
    {
      "cell_type": "code",
      "execution_count": 34,
      "metadata": {
        "colab": {
          "base_uri": "https://localhost:8080/"
        },
        "id": "CK9bYzwy_ZsU",
        "outputId": "a2934484-d3bf-4f54-da99-56f37e8d9544"
      },
      "outputs": [
        {
          "output_type": "stream",
          "name": "stderr",
          "text": [
            "The attention mask and the pad token id were not set. As a consequence, you may observe unexpected behavior. Please pass your input's `attention_mask` to obtain reliable results.\n",
            "Setting `pad_token_id` to `eos_token_id`:2 for open-end generation.\n"
          ]
        },
        {
          "output_type": "stream",
          "name": "stdout",
          "text": [
            " Opinia jest negatywna z elementami pozytywnymi.\n",
            "\n",
            "Aspekty negatywne:\n",
            "\n",
            "1. Aplikacja działa źle - od tygodnia się zawiesza.\n",
            "2. Utrudniony dostęp - nie można się zalogować.\n",
            "3. Ograniczone metody płatności - tylko BLIK jest akceptowany.\n",
            "4. Brak informacji o planowanym terminie naprawy.\n",
            "\n",
            "Aspekty pozytywne:\n",
            "\n",
            "1. Aplikacja działa w języku angielskim, co jest pozytywnym akcentem, jednak problematyczne jest, że obecnie się zawiesza.\n",
            "2. Dostępność metody płatności BLIK.\n"
          ]
        }
      ],
      "source": [
        "temperature = 0.2\n",
        "\n",
        "review = \"\"\"Aplikacja działała świetnie i jest już w języku angielskim...​\n",
        "Jednak od tygodnia zawiesza się, nie można się zalogować, używam tylko blika i akceptuję płatności...​\n",
        "Kiedy to zostanie rozwiązane?\"\"\"\n",
        "\n",
        "prompt = f\"Czy podana opinia jest pozytywna czy negatywna? Uzasadnij odpowiedź, wymień w punktach aspekty pozytywne oraz wymagające poprawy. \\n\\n###OPINIA:\\n{review}\"\n",
        "\n",
        "generate(prompt)"
      ]
    },
    {
      "cell_type": "markdown",
      "metadata": {
        "id": "k5Q8N5e9CfgO"
      },
      "source": [
        "# Przykład 4\n",
        "Praca z dokumentami"
      ]
    },
    {
      "cell_type": "code",
      "execution_count": 35,
      "metadata": {
        "id": "E91KX_t2_tWt"
      },
      "outputs": [],
      "source": [
        "import requests\n",
        "from bs4 import BeautifulSoup\n",
        "\n",
        "\n",
        "def get_page_content(url='https://hiperautomatyzacja.pl'):\n",
        "    response = requests.get(url)\n",
        "    html_content = response.text\n",
        "    soup = BeautifulSoup(html_content, 'html.parser')\n",
        "    plain_text = soup.get_text()\n",
        "    clean_text = plain_text\n",
        "    return clean_text"
      ]
    },
    {
      "cell_type": "code",
      "execution_count": 36,
      "metadata": {
        "colab": {
          "base_uri": "https://localhost:8080/"
        },
        "id": "BeceSbT0Bvxb",
        "outputId": "f6090296-66c8-4811-bad2-4a14e284d1df"
      },
      "outputs": [
        {
          "output_type": "stream",
          "name": "stderr",
          "text": [
            "The attention mask and the pad token id were not set. As a consequence, you may observe unexpected behavior. Please pass your input's `attention_mask` to obtain reliable results.\n",
            "Setting `pad_token_id` to `eos_token_id`:2 for open-end generation.\n"
          ]
        },
        {
          "output_type": "stream",
          "name": "stdout",
          "text": [
            " HiperAutomatyzacja.pl to strona internetowa poświęcona konferencji i społeczności hiperautomatyzacji i AI w Polsce. Organizator konferencji oferuje nieodpłatny udział w konferencji, podczas której prelegenci będą dzielić się swoimi praktycznymi doświadczeniami. Konferencja podzielona jest na dwa strumienie - menadżerski i wdrożeniowy. Uczestnicy otrzymują dostęp do nagrań z konferencji, a także biorą udział w radarze ułatwiającym wdrażanie AI w organizacjach. Konferencja jest częścią większego projektu budowy polskiej społeczności hiperautomatyzacji i AI - Liderzy.AI.\n"
          ]
        }
      ],
      "source": [
        "temperature = 0.1\n",
        "max_tokens = 512\n",
        "\n",
        "system = \"Dokonaj streszczenia podanego tekstu strony internetowej. Pisz w języku polskim.\"\n",
        "prompt = get_page_content(\"https://hiperautomatyzacja.pl\")\n",
        "\n",
        "generate(prompt, system=system)"
      ]
    },
    {
      "cell_type": "code",
      "execution_count": 37,
      "metadata": {
        "colab": {
          "base_uri": "https://localhost:8080/"
        },
        "id": "DhAEVf16C4jh",
        "outputId": "2e10e154-65c5-4590-c208-1075aa52081c"
      },
      "outputs": [
        {
          "output_type": "stream",
          "name": "stderr",
          "text": [
            "The attention mask and the pad token id were not set. As a consequence, you may observe unexpected behavior. Please pass your input's `attention_mask` to obtain reliable results.\n",
            "Setting `pad_token_id` to `eos_token_id`:2 for open-end generation.\n"
          ]
        },
        {
          "output_type": "stream",
          "name": "stdout",
          "text": [
            " HiperAutomatyzacja.pl to platforma poświęcona automatyzacji procesów biznesowych. Na stronie znajduje się program o nazwie HiperAutomatyzacja, który koncentruje się na pomocy firmom w optymalizacji pracy poprzez automatyzację. Oferowane są transmisje, szkolenia, a także narzędzia i platformy do wdrażania rozwiązań RAG. Strona porusza również tematy takie jak sztuczna inteligencja, RPA i AI w kontekście optymalizacji procesów. Dostępne są transmisje i nagrania wideo, a także publikowane są artykuły i raporty dotyczące automatyzacji. Organizator strony to grupa ekspertów, którzy dzielą się swoją wiedzą i doświadczeniem z firmami chcącymi zoptymalizować swoje procesy.\n"
          ]
        }
      ],
      "source": [
        "prompt = get_page_content(\"https://hiperautomatyzacja.pl/program?s=7\")\n",
        "generate(prompt, system=system)"
      ]
    },
    {
      "cell_type": "code",
      "execution_count": 38,
      "metadata": {
        "colab": {
          "base_uri": "https://localhost:8080/"
        },
        "id": "Tokv2n6zDmMk",
        "outputId": "c38ca054-588a-46fb-9d82-ca33b1f363e9"
      },
      "outputs": [
        {
          "output_type": "stream",
          "name": "stderr",
          "text": [
            "The attention mask and the pad token id were not set. As a consequence, you may observe unexpected behavior. Please pass your input's `attention_mask` to obtain reliable results.\n",
            "Setting `pad_token_id` to `eos_token_id`:2 for open-end generation.\n"
          ]
        },
        {
          "output_type": "stream",
          "name": "stdout",
          "text": [
            " Poniżej przedstawiona jest lista warsztatów AI prowadzonych przez wymienione w tekście osoby:\n",
            "\n",
            "1. \"Moc Inteligentnych Procesów\" - prowadzący: Zbigniew Kępiński (Grupa Raben, Organizator)\n",
            "2. \"Hiperautomatyzacja w logistyce (10/5/1)\" - prowadzący: Zbigniew Kępiński (Grupa Raben, Organizator)\n",
            "3. \"Transmisja\" - prowadzący: Zbigniew Kępiński (Grupa Raben, Organizator)\n",
            "4. \"Prototypowanie automatyzacji procesów z wykorzystaniem GenAI\" - prowadzący: Tomasz Gawron (XTB, Organizator)\n",
            "5. \"Platformy Automatyzujące w skali Enterprise\" - prowadzący: Maciej Zyzak (ING Hubs Poland, Organizator)\n",
            "6. \"Symbioza gatunków - RPA i AI w PZU\" - prowadzący: Maciej Rudziński (PZU, Organizator)\n",
            "7. \"Podejście do wdrożenia governance nad dużymi modelami językowymi i sztuczną inteligencją w Power Platform\" - prowadzący: Tomasz Łopuchowicz (ISS World Services, Organizator)\n",
            "8. \"Czy agenci AI zastąpią RPA? - Przegląd technologii i narzędzi AI do automatyzacji\" - prowadzący: Krzysztof Karaszewski (Międzynarodowy Bank, Organizator)\n",
            "9. \"Efektywne wdrażanie rozwiązań RAG w środowiskach korporacyjnych\" - prowadzący: Paweł Bulowski (Ergo, Organizator)\n",
            "10. \"Wersja 2.0 dokumentu Dobrych Praktyk Robotyzacji Procesów wydanego przez Związek Banków Polskich\" - prowadzący\n"
          ]
        }
      ],
      "source": [
        "system = \"Wymień warsztaty dotyczące AI oraz prowadzących z imienia, nazwiska z poniższego tekstu strony internetowej.\"\n",
        "prompt = system + \"\\n\\nTEKST:\" + get_page_content(\"https://hiperautomatyzacja.pl/program?s=7\")\n",
        "generate(prompt)"
      ]
    },
    {
      "cell_type": "code",
      "execution_count": 39,
      "metadata": {
        "colab": {
          "base_uri": "https://localhost:8080/"
        },
        "id": "qO7Q2ouGD1_i",
        "outputId": "9d03f930-7134-4585-89c8-afd680c67e90"
      },
      "outputs": [
        {
          "output_type": "stream",
          "name": "stderr",
          "text": [
            "The attention mask and the pad token id were not set. As a consequence, you may observe unexpected behavior. Please pass your input's `attention_mask` to obtain reliable results.\n",
            "Setting `pad_token_id` to `eos_token_id`:2 for open-end generation.\n"
          ]
        },
        {
          "output_type": "stream",
          "name": "stdout",
          "text": [
            " {\n",
            " \"trener\": {\n",
            "   \"name\": \"Zbigniew Kępiński\",\n",
            "   \"event\": \"Moc Inteligentnych Procesów\",\n",
            "   \"date\": \"10/5/1\",\n",
            "   \"time\": \"09:10-10:10\"\n",
            " },\n",
            " \"trener\": {\n",
            "   \"name\": \"Tomasz Gawron\",\n",
            "   \"event\": \"Transmisja\",\n",
            "   \"date\": \"10/5/1\",\n",
            "   \"time\": \"10:50-11:30\"\n",
            " },\n",
            " \"trener\": {\n",
            "   \"name\": \"Maciej Zyzak\",\n",
            "   \"event\": \"Platformy Automatyzujące w skali Enterprise\",\n",
            "   \"date\": \"10/5/1\",\n",
            "   \"time\": \"11:50-12:30\"\n",
            " },\n",
            " \"trener\": {\n",
            "   \"name\": \"Maciej Rudziński\",\n",
            "   \"event\": \"Podejście do wdrożenia governance nad dużymi modelami językowymi i sztuczną inteligencją w Power Platform\",\n",
            "   \"date\": \"10/5/1\",\n",
            "   \"time\": \"12:50-13:30\"\n",
            " },\n",
            " \"trener\": {\n",
            "   \"name\": \"Artur Szylkin\",\n",
            "   \"event\": \"Symbioza gatunków - RPA i AI w PZU\",\n",
            "   \"date\": \"10/5/1\",\n",
            "   \"time\": \"13:30-14:10\"\n",
            " },\n",
            " \"trener\": {\n",
            "   \"name\": \"Krzysztof Karaszewski\",\n",
            "   \"event\": \"Czy agenci AI zastąpią RPA? - Przegląd technologii i narzędzi AI do automatyzacji\",\n",
            "   \"date\": \"10/5/1\",\n",
            "   \"time\": \"14:10-14:50\"\n",
            " },\n",
            " \"trener\": {\n",
            "   \"name\": \"Paweł Bulowski\",\n",
            "\n"
          ]
        }
      ],
      "source": [
        "system = \"\"\"Wymień warsztaty dotyczące AI z poniższego tekstu strony internetowej. Zwróć w postaci JSON według szablonu\n",
        "[\n",
        "  {\n",
        "    'trener':...,\n",
        "    'temat':...,\n",
        "    'godzina': ...\n",
        "    }\n",
        "    ,\n",
        "] \"\"\"\n",
        "\n",
        "prompt = system + \"\\n\\nTEKST:\" + get_page_content(\"https://hiperautomatyzacja.pl/program?s=7\")\n",
        "generate(prompt)"
      ]
    },
    {
      "cell_type": "code",
      "execution_count": 40,
      "metadata": {
        "colab": {
          "base_uri": "https://localhost:8080/"
        },
        "id": "dIl3iV20GHjg",
        "outputId": "adf9cca8-b76e-4f56-f54a-a884967ab29e"
      },
      "outputs": [
        {
          "output_type": "stream",
          "name": "stderr",
          "text": [
            "The attention mask and the pad token id were not set. As a consequence, you may observe unexpected behavior. Please pass your input's `attention_mask` to obtain reliable results.\n",
            "Setting `pad_token_id` to `eos_token_id`:2 for open-end generation.\n"
          ]
        },
        {
          "output_type": "stream",
          "name": "stdout",
          "text": [
            " Mocne strony kandydata:\n",
            "\n",
            "1. Głęboka wiedza i doświadczenie w zarządzaniu projektami: Kandydat posiada ponad 15 lat doświadczenia w zarządzaniu projektami w różnych branżach, co pozwala mu na efektywne planowanie, koordynację i kontrolę projektów.\n",
            "\n",
            "2. Silne umiejętności analityczne i strategiczne: Kandydat posiada wysoko rozwinięte umiejętności analizy biznesowej i strategicznego myślenia, co pozwala mu na identyfikowanie możliwości i ryzyk oraz tworzenie efektywnych planów działania.\n",
            "\n",
            "3. Wszechstronność technologiczna: Kandydat jest biegły w różnych technologiach, w tym w zarządzaniu projektami, analizie danych, zarządzaniu zespołami zdalnymi oraz tworzeniu i wdrażaniu strategii cyfryzacji.\n",
            "\n",
            "4. Umiejętność budowania relacji i zespołów: Kandydat posiada wysoko rozwinięte umiejętności interpersonalne, co pozwala mu na skuteczne budowanie relacji z klientami, partnerami biznesowymi oraz zespołami projektowymi.\n",
            "\n",
            "5. Silne umiejętności komunikacyjne i prezentacyjne: Kandydat posiada wysoko rozwinięte umiejętności komunikacji zarówno pisemnej, jak i ustnej, co pozwala mu na skuteczne przekazywanie informacji i prezentowanie wyników projektów.\n",
            "\n",
            "6. Zdolność do szybkiej adaptacji i uczenia się: Kandydat jest bardzo elastyczny i szybko się uczy, co pozwala mu na dostosowywanie się do zmieniających się warunków rynkowych i technologicznych.\n",
            "\n",
            "7. Silne umiejętności zarządzania czasem i priorytetami: Kandydat posiada wysoko rozwinięte umiejętności zarządzania czasem i priorytetami, co pozwala mu na efektywne planowanie i wykorzystanie zasobów projektu.\n",
            "\n",
            "8. Doświadczenie w pracy z różnymi kulturami i zespołami międzynarodowymi: Kandydat posiada doświadczenie w pracy z zespołami i projektami w różnych krajach i kulturach, co pozwala mu na skuteczne zarządzanie różnorodnością i współpracę w środowiskach wielokulturowych.\n",
            "\n",
            "9. Zdolność do inspirowania i motywowania zespołów: Kandydat posiada wysoko rozwinięte umiejętności inspirowania i motywowania zespołów do osiągania celów projektowych, co prowadzi do wyższej efektywności i zaangażowania w pracy.\n",
            "\n",
            "10. Skuteczne umiejętności negocjacyjne i rozwiązywania problemów: Kandydat posiada wysoko rozwinięte umiejętności negocjacyjne i rozwiązywania problemów, co pozwala mu na skuteczne prowadzenie negocjacji z klientami, dostawcami i zespołami projektowymi.\n"
          ]
        }
      ],
      "source": [
        "max_tokens = 1024\n",
        "temperature = 0.1\n",
        "\n",
        "system = \"Pracujesz w agencji rekrutacyjnej. Pomagasz dużej firmie z branży finansowej zatrudnić menedżera do spraw AI. Dokonaj oceny podanego kandydata i wypisz jego mocne strony.\"\n",
        "prompt = get_page_content(\"https://hiperautomatyzacja.pl/o-organizatorze\")\n",
        "generate(prompt, system=system)"
      ]
    }
  ],
  "metadata": {
    "accelerator": "GPU",
    "colab": {
      "gpuType": "T4",
      "provenance": []
    },
    "kernelspec": {
      "display_name": "Python 3 (ipykernel)",
      "language": "python",
      "name": "python3"
    },
    "language_info": {
      "codemirror_mode": {
        "name": "ipython",
        "version": 3
      },
      "file_extension": ".py",
      "mimetype": "text/x-python",
      "name": "python",
      "nbconvert_exporter": "python",
      "pygments_lexer": "ipython3",
      "version": "3.9.10"
    },
    "widgets": {
      "application/vnd.jupyter.widget-state+json": {
        "99b5ea60f942452a9493155a35933dfe": {
          "model_module": "@jupyter-widgets/controls",
          "model_name": "HBoxModel",
          "model_module_version": "1.5.0",
          "state": {
            "_dom_classes": [],
            "_model_module": "@jupyter-widgets/controls",
            "_model_module_version": "1.5.0",
            "_model_name": "HBoxModel",
            "_view_count": null,
            "_view_module": "@jupyter-widgets/controls",
            "_view_module_version": "1.5.0",
            "_view_name": "HBoxView",
            "box_style": "",
            "children": [
              "IPY_MODEL_9dfa485bd8a34dc2bfc9825989fda2ac",
              "IPY_MODEL_9739047ea88241a9b19b865bcb4c8ec0",
              "IPY_MODEL_90e369ef225d494eaac7abebc1e529d4"
            ],
            "layout": "IPY_MODEL_4f32de3c9eb74d0eac6d8f6b60cfe824"
          }
        },
        "9dfa485bd8a34dc2bfc9825989fda2ac": {
          "model_module": "@jupyter-widgets/controls",
          "model_name": "HTMLModel",
          "model_module_version": "1.5.0",
          "state": {
            "_dom_classes": [],
            "_model_module": "@jupyter-widgets/controls",
            "_model_module_version": "1.5.0",
            "_model_name": "HTMLModel",
            "_view_count": null,
            "_view_module": "@jupyter-widgets/controls",
            "_view_module_version": "1.5.0",
            "_view_name": "HTMLView",
            "description": "",
            "description_tooltip": null,
            "layout": "IPY_MODEL_ea6d9361c0c04d57a222491d08c5060e",
            "placeholder": "​",
            "style": "IPY_MODEL_787eba0e024a40b5a8041ae32dff8c48",
            "value": "Loading checkpoint shards: 100%"
          }
        },
        "9739047ea88241a9b19b865bcb4c8ec0": {
          "model_module": "@jupyter-widgets/controls",
          "model_name": "FloatProgressModel",
          "model_module_version": "1.5.0",
          "state": {
            "_dom_classes": [],
            "_model_module": "@jupyter-widgets/controls",
            "_model_module_version": "1.5.0",
            "_model_name": "FloatProgressModel",
            "_view_count": null,
            "_view_module": "@jupyter-widgets/controls",
            "_view_module_version": "1.5.0",
            "_view_name": "ProgressView",
            "bar_style": "success",
            "description": "",
            "description_tooltip": null,
            "layout": "IPY_MODEL_7bf84a9126e848a1bf457433ab1c6d28",
            "max": 3,
            "min": 0,
            "orientation": "horizontal",
            "style": "IPY_MODEL_08730d78df05455fa379d79b45d1ee7f",
            "value": 3
          }
        },
        "90e369ef225d494eaac7abebc1e529d4": {
          "model_module": "@jupyter-widgets/controls",
          "model_name": "HTMLModel",
          "model_module_version": "1.5.0",
          "state": {
            "_dom_classes": [],
            "_model_module": "@jupyter-widgets/controls",
            "_model_module_version": "1.5.0",
            "_model_name": "HTMLModel",
            "_view_count": null,
            "_view_module": "@jupyter-widgets/controls",
            "_view_module_version": "1.5.0",
            "_view_name": "HTMLView",
            "description": "",
            "description_tooltip": null,
            "layout": "IPY_MODEL_283fc310ceb7485ca815797b6d9b41b0",
            "placeholder": "​",
            "style": "IPY_MODEL_358ce4c021154f1ca4f2c71f9a031280",
            "value": " 3/3 [01:15&lt;00:00, 24.92s/it]"
          }
        },
        "4f32de3c9eb74d0eac6d8f6b60cfe824": {
          "model_module": "@jupyter-widgets/base",
          "model_name": "LayoutModel",
          "model_module_version": "1.2.0",
          "state": {
            "_model_module": "@jupyter-widgets/base",
            "_model_module_version": "1.2.0",
            "_model_name": "LayoutModel",
            "_view_count": null,
            "_view_module": "@jupyter-widgets/base",
            "_view_module_version": "1.2.0",
            "_view_name": "LayoutView",
            "align_content": null,
            "align_items": null,
            "align_self": null,
            "border": null,
            "bottom": null,
            "display": null,
            "flex": null,
            "flex_flow": null,
            "grid_area": null,
            "grid_auto_columns": null,
            "grid_auto_flow": null,
            "grid_auto_rows": null,
            "grid_column": null,
            "grid_gap": null,
            "grid_row": null,
            "grid_template_areas": null,
            "grid_template_columns": null,
            "grid_template_rows": null,
            "height": null,
            "justify_content": null,
            "justify_items": null,
            "left": null,
            "margin": null,
            "max_height": null,
            "max_width": null,
            "min_height": null,
            "min_width": null,
            "object_fit": null,
            "object_position": null,
            "order": null,
            "overflow": null,
            "overflow_x": null,
            "overflow_y": null,
            "padding": null,
            "right": null,
            "top": null,
            "visibility": null,
            "width": null
          }
        },
        "ea6d9361c0c04d57a222491d08c5060e": {
          "model_module": "@jupyter-widgets/base",
          "model_name": "LayoutModel",
          "model_module_version": "1.2.0",
          "state": {
            "_model_module": "@jupyter-widgets/base",
            "_model_module_version": "1.2.0",
            "_model_name": "LayoutModel",
            "_view_count": null,
            "_view_module": "@jupyter-widgets/base",
            "_view_module_version": "1.2.0",
            "_view_name": "LayoutView",
            "align_content": null,
            "align_items": null,
            "align_self": null,
            "border": null,
            "bottom": null,
            "display": null,
            "flex": null,
            "flex_flow": null,
            "grid_area": null,
            "grid_auto_columns": null,
            "grid_auto_flow": null,
            "grid_auto_rows": null,
            "grid_column": null,
            "grid_gap": null,
            "grid_row": null,
            "grid_template_areas": null,
            "grid_template_columns": null,
            "grid_template_rows": null,
            "height": null,
            "justify_content": null,
            "justify_items": null,
            "left": null,
            "margin": null,
            "max_height": null,
            "max_width": null,
            "min_height": null,
            "min_width": null,
            "object_fit": null,
            "object_position": null,
            "order": null,
            "overflow": null,
            "overflow_x": null,
            "overflow_y": null,
            "padding": null,
            "right": null,
            "top": null,
            "visibility": null,
            "width": null
          }
        },
        "787eba0e024a40b5a8041ae32dff8c48": {
          "model_module": "@jupyter-widgets/controls",
          "model_name": "DescriptionStyleModel",
          "model_module_version": "1.5.0",
          "state": {
            "_model_module": "@jupyter-widgets/controls",
            "_model_module_version": "1.5.0",
            "_model_name": "DescriptionStyleModel",
            "_view_count": null,
            "_view_module": "@jupyter-widgets/base",
            "_view_module_version": "1.2.0",
            "_view_name": "StyleView",
            "description_width": ""
          }
        },
        "7bf84a9126e848a1bf457433ab1c6d28": {
          "model_module": "@jupyter-widgets/base",
          "model_name": "LayoutModel",
          "model_module_version": "1.2.0",
          "state": {
            "_model_module": "@jupyter-widgets/base",
            "_model_module_version": "1.2.0",
            "_model_name": "LayoutModel",
            "_view_count": null,
            "_view_module": "@jupyter-widgets/base",
            "_view_module_version": "1.2.0",
            "_view_name": "LayoutView",
            "align_content": null,
            "align_items": null,
            "align_self": null,
            "border": null,
            "bottom": null,
            "display": null,
            "flex": null,
            "flex_flow": null,
            "grid_area": null,
            "grid_auto_columns": null,
            "grid_auto_flow": null,
            "grid_auto_rows": null,
            "grid_column": null,
            "grid_gap": null,
            "grid_row": null,
            "grid_template_areas": null,
            "grid_template_columns": null,
            "grid_template_rows": null,
            "height": null,
            "justify_content": null,
            "justify_items": null,
            "left": null,
            "margin": null,
            "max_height": null,
            "max_width": null,
            "min_height": null,
            "min_width": null,
            "object_fit": null,
            "object_position": null,
            "order": null,
            "overflow": null,
            "overflow_x": null,
            "overflow_y": null,
            "padding": null,
            "right": null,
            "top": null,
            "visibility": null,
            "width": null
          }
        },
        "08730d78df05455fa379d79b45d1ee7f": {
          "model_module": "@jupyter-widgets/controls",
          "model_name": "ProgressStyleModel",
          "model_module_version": "1.5.0",
          "state": {
            "_model_module": "@jupyter-widgets/controls",
            "_model_module_version": "1.5.0",
            "_model_name": "ProgressStyleModel",
            "_view_count": null,
            "_view_module": "@jupyter-widgets/base",
            "_view_module_version": "1.2.0",
            "_view_name": "StyleView",
            "bar_color": null,
            "description_width": ""
          }
        },
        "283fc310ceb7485ca815797b6d9b41b0": {
          "model_module": "@jupyter-widgets/base",
          "model_name": "LayoutModel",
          "model_module_version": "1.2.0",
          "state": {
            "_model_module": "@jupyter-widgets/base",
            "_model_module_version": "1.2.0",
            "_model_name": "LayoutModel",
            "_view_count": null,
            "_view_module": "@jupyter-widgets/base",
            "_view_module_version": "1.2.0",
            "_view_name": "LayoutView",
            "align_content": null,
            "align_items": null,
            "align_self": null,
            "border": null,
            "bottom": null,
            "display": null,
            "flex": null,
            "flex_flow": null,
            "grid_area": null,
            "grid_auto_columns": null,
            "grid_auto_flow": null,
            "grid_auto_rows": null,
            "grid_column": null,
            "grid_gap": null,
            "grid_row": null,
            "grid_template_areas": null,
            "grid_template_columns": null,
            "grid_template_rows": null,
            "height": null,
            "justify_content": null,
            "justify_items": null,
            "left": null,
            "margin": null,
            "max_height": null,
            "max_width": null,
            "min_height": null,
            "min_width": null,
            "object_fit": null,
            "object_position": null,
            "order": null,
            "overflow": null,
            "overflow_x": null,
            "overflow_y": null,
            "padding": null,
            "right": null,
            "top": null,
            "visibility": null,
            "width": null
          }
        },
        "358ce4c021154f1ca4f2c71f9a031280": {
          "model_module": "@jupyter-widgets/controls",
          "model_name": "DescriptionStyleModel",
          "model_module_version": "1.5.0",
          "state": {
            "_model_module": "@jupyter-widgets/controls",
            "_model_module_version": "1.5.0",
            "_model_name": "DescriptionStyleModel",
            "_view_count": null,
            "_view_module": "@jupyter-widgets/base",
            "_view_module_version": "1.2.0",
            "_view_name": "StyleView",
            "description_width": ""
          }
        }
      }
    }
  },
  "nbformat": 4,
  "nbformat_minor": 0
}