{
 "cells": [
  {
   "cell_type": "markdown",
   "metadata": {},
   "source": [
    "<p align=\"center\">\n",
    "  <img src=\"https://huggingface.co/speakleash/Bielik-7B-Instruct-v0.1/raw/main/speakleash_cyfronet.png\">\n",
    "</p>"
   ]
  },
  {
   "cell_type": "markdown",
   "metadata": {
    "id": "auYFDEJyVcpI"
   },
   "source": [
    "%%capture\n",
    "!pip install -q streamlit accelerate transformers bitsandbytes\n",
    "!npm install -g localtunnel"
   ]
  },
  {
   "cell_type": "markdown",
   "metadata": {
    "id": "sDfhIUWMXV0a"
   },
   "source": [
    "## Prosta aplikacja z wykorzystaniem Streamlit i Bielika w wersji 4-bit"
   ]
  },
  {
   "cell_type": "code",
   "execution_count": null,
   "metadata": {
    "colab": {
     "base_uri": "https://localhost:8080/"
    },
    "id": "wcT43Zm_X_Eh",
    "outputId": "09c27023-2551-4909-c2f6-e468c3506622"
   },
   "outputs": [],
   "source": [
    "% % writefile\n",
    "app.py\n",
    "from threading import Thread\n",
    "\n",
    "import streamlit as st\n",
    "import torch\n",
    "from transformers import AutoModelForCausalLM, AutoTokenizer, BitsAndBytesConfig, TextIteratorStreamer\n",
    "\n",
    "MODEL_NAME = 'speakleash/Bielik-7B-Instruct-v0.1'\n",
    "LOAD_4_BIT = True\n",
    "\n",
    "\n",
    "@st.cache_resource  # Dekorator, żeby model i inne rzeczy były trzymane w pamięci cache\n",
    "def prepare_model() -> tuple:\n",
    "    tokenizer = AutoTokenizer.from_pretrained(MODEL_NAME)\n",
    "\n",
    "    quantization_config = None\n",
    "    if LOAD_4_BIT:\n",
    "        quantization_config = BitsAndBytesConfig(load_in_4bit=LOAD_4_BIT, bnb_4bit_compute_dtype=torch.bfloat16)\n",
    "\n",
    "    model = AutoModelForCausalLM.from_pretrained(MODEL_NAME, torch_dtype=torch.bfloat16,\n",
    "                                                 quantization_config=quantization_config)\n",
    "    streamer = TextIteratorStreamer(tokenizer, skip_prompt=True, skip_special_tokens=True)\n",
    "    return tokenizer, model, streamer\n",
    "\n",
    "\n",
    "def generate_text(tokenizer: AutoTokenizer, model: AutoModelForCausalLM,\n",
    "                  streamer: TextIteratorStreamer,\n",
    "                  prompt: str = \"\", temperature: float = 0.4,\n",
    "                  top_k: int = 200, top_p: float = 0.95, max_tokens: int = 512) -> str:\n",
    "    # Przygotowanie promptu przez tokenizer\n",
    "    inputs = tokenizer(prompt, return_tensors=\"pt\").to(model.device)\n",
    "\n",
    "    # Przygotowanie zmiennych dla modelu\n",
    "    generation_kwargs = {\n",
    "            \"input_ids\": inputs[\"input_ids\"],\n",
    "            \"max_new_tokens\": max_tokens,\n",
    "            \"streamer\": streamer,\n",
    "            \"do_sample\": True if temperature else False,\n",
    "            'temperature': temperature,\n",
    "            'top_k': top_k,\n",
    "            'top_p': top_p\n",
    "    }\n",
    "\n",
    "    # Uruchamiamy generowanie modelu w osobnym wątku\n",
    "    thread = Thread(target=model.generate, kwargs=generation_kwargs)\n",
    "    thread.start()\n",
    "\n",
    "    for output in streamer:\n",
    "        yield output  # Zwracamy fragmenty odpowiedzi\n",
    "\n",
    "\n",
    "### ------------------------------------------------------------------------ ###\n",
    "# Aplikacja Streamlit\n",
    "\n",
    "# Historia czatu\n",
    "if \"messages\" not in st.session_state:\n",
    "    st.session_state.messages = []\n",
    "\n",
    "st.title(\"Bielik-v0.1-7B (4-bit) - LLM App\")\n",
    "\n",
    "# Ładowanie modelu\n",
    "with st.status(\"Pobieranie i przygotowanie modelu...\", expanded=True) as status:\n",
    "    tokenizer, model, streamer = prepare_model()\n",
    "    status.update(label=\"Model gotowy do rozmowy!\", state=\"complete\", expanded=False)\n",
    "\n",
    "# Ustawienia parametrów modelu\n",
    "col_temp, col_maxtokens, col_topk, col_topp = st.columns([1, 1, 1, 1])\n",
    "with col_temp:\n",
    "    temperature = st.slider(\"Temperatura\", 0.01, 2.0, 0.4)\n",
    "with col_maxtokens:\n",
    "    max_tokens = st.slider(\"Max liczba tokenów:\", 1, 4096, 512)\n",
    "with col_topk:\n",
    "    top_k = st.slider(\"Top_k\", 1, 500, 200)\n",
    "with col_topp:\n",
    "    top_p = st.slider(\"Top_p\", 0.01, 1.0, 0.95)\n",
    "\n",
    "# Historia konwersacji\n",
    "for message in st.session_state.messages:\n",
    "    with st.chat_message(message[\"role\"]):\n",
    "        st.markdown(message[\"content\"])\n",
    "\n",
    "# Czat z modelem\n",
    "if human_prompt := st.chat_input(\"Witaj, o czym dzisiaj porozmawiamy?\"):\n",
    "    # Dodanie specjalnych tokenów, żeby model działał poprawnie\n",
    "    prompt = f\"<s>[INST]{human_prompt}[/INST]\"\n",
    "\n",
    "    # Zapisanie promptu do historii\n",
    "    st.session_state.messages.append({\"role\": \"user\", \"content\": human_prompt})\n",
    "\n",
    "    # Pokazanie wiadomości od użytkownika\n",
    "    with st.chat_message(\"user\"):\n",
    "        st.markdown(human_prompt)\n",
    "\n",
    "    # Odpowiedź modelu\n",
    "    with st.chat_message(\"assistant\"):\n",
    "        # Streaming - czyli wiadomość będzie uzupełniana jak tylko model zwróci kolejny token\n",
    "        # czyli będą się pojawiać kolejne tokeny i nie będziemy czekać na całą wiadomość\n",
    "        response_stream = st.write_stream(generate_text(tokenizer,\n",
    "                                                        model,\n",
    "                                                        streamer,\n",
    "                                                        prompt,\n",
    "                                                        temperature,\n",
    "                                                        top_k,\n",
    "                                                        top_p,\n",
    "                                                        max_tokens))\n",
    "\n",
    "    # Zapisanie odpowiedzi modelu do historii czatu\n",
    "    st.session_state.messages.append({\"role\": \"assistant\", \"content\": response_stream})"
   ]
  },
  {
   "cell_type": "code",
   "execution_count": null,
   "metadata": {
    "colab": {
     "base_uri": "https://localhost:8080/"
    },
    "id": "4hBLUhsIYnNm",
    "outputId": "c6e4d9e7-e93e-48de-ce28-8f25e93e96a4"
   },
   "outputs": [],
   "source": [
    "# Po uruchomieniu będzie adres IP - należy go skopiować i przejść na stronę, która będzie poniżej\n",
    "!streamlit run app.py &>/content/logs.txt &\n",
    "!npx localtunnel --port 8501 & curl ipv4.icanhazip.com"
   ]
  }
 ],
 "metadata": {
  "accelerator": "GPU",
  "colab": {
   "gpuType": "T4",
   "provenance": []
  },
  "kernelspec": {
   "display_name": "Python 3 (ipykernel)",
   "language": "python",
   "name": "python3"
  },
  "language_info": {
   "codemirror_mode": {
    "name": "ipython",
    "version": 3
   },
   "file_extension": ".py",
   "mimetype": "text/x-python",
   "name": "python",
   "nbconvert_exporter": "python",
   "pygments_lexer": "ipython3",
   "version": "3.9.10"
  }
 },
 "nbformat": 4,
 "nbformat_minor": 1
}