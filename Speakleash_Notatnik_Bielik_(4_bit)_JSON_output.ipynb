{
  "cells": [
    {
      "cell_type": "markdown",
      "metadata": {
        "id": "V55IAMNhYrP9"
      },
      "source": [
        "<p align=\"center\">\n",
        "  <img src=\"https://huggingface.co/speakleash/Bielik-7B-Instruct-v0.1/raw/main/speakleash_cyfronet.png\">\n",
        "</p>"
      ]
    },
    {
      "cell_type": "markdown",
      "metadata": {
        "id": "fLjD5NSinlFS"
      },
      "source": [
        "W tym notebooku przejdziemy całą ścieżkę - od uruchomienia modelu aż po zwrot danych w formacie JSON. Zaczynajmy! :)"
      ]
    },
    {
      "cell_type": "markdown",
      "metadata": {
        "id": "dpi-lp87jeIu"
      },
      "source": [
        "### Przygotowanie środowiska"
      ]
    },
    {
      "cell_type": "code",
      "execution_count": 1,
      "metadata": {
        "id": "07-4DrcSdEf8",
        "colab": {
          "base_uri": "https://localhost:8080/"
        },
        "outputId": "dabb841f-b122-41f0-bada-75af31254b0c"
      },
      "outputs": [
        {
          "output_type": "stream",
          "name": "stdout",
          "text": [
            "\u001b[2K   \u001b[90m━━━━━━━━━━━━━━━━━━━━━━━━━━━━━━━━━━━━━━━━\u001b[0m \u001b[32m137.5/137.5 MB\u001b[0m \u001b[31m6.9 MB/s\u001b[0m eta \u001b[36m0:00:00\u001b[0m\n",
            "\u001b[?25h"
          ]
        }
      ],
      "source": [
        "#%%capture\n",
        "\n",
        "!pip install accelerate -q\n",
        "!pip install -i https://pypi.org/simple/ bitsandbytes -q\n"
      ]
    },
    {
      "cell_type": "code",
      "execution_count": 2,
      "metadata": {
        "id": "2iD0O366dg0K"
      },
      "outputs": [],
      "source": [
        "import gc\n",
        "import torch"
      ]
    },
    {
      "cell_type": "code",
      "execution_count": 3,
      "metadata": {
        "id": "YfVY6E7ge6bT"
      },
      "outputs": [],
      "source": [
        "import warnings\n",
        "warnings.filterwarnings(\"ignore\") # tylko na potrzeby naszego demo ;)"
      ]
    },
    {
      "cell_type": "markdown",
      "metadata": {
        "id": "MqfY6a1qgvYi"
      },
      "source": [
        "### Inicjalizacja modelu (4 bit)"
      ]
    },
    {
      "cell_type": "code",
      "execution_count": 15,
      "metadata": {
        "colab": {
          "base_uri": "https://localhost:8080/",
          "height": 65,
          "referenced_widgets": [
            "895183d190b740308d3f9fbe99446801",
            "9151fb38f1f24d08a26672c5f0dfdaed",
            "fe1e83c1013948d1b746c39ca73b94e4",
            "ad6e2d0f5db14dfcb797e5b54f8db4bc",
            "b419680063da411db2051cdb2f397c82",
            "526d4fa2926c46c9b4207a5d203974cb",
            "e3ecd0489c6346b1b06194693ff66fe6",
            "ef207614c0fe48c2997dd134fc321717",
            "ad2690f47b8349f8914821c2edd2cc34",
            "aa4fb9eda55e445aafeb5cc6be6ba2f4",
            "90be1abd750b42fc9ce632ae74622b77"
          ]
        },
        "id": "vfWiekAIt0DR",
        "outputId": "9818c575-ad96-4a73-c059-0700ab4b7ce2"
      },
      "outputs": [
        {
          "output_type": "stream",
          "name": "stderr",
          "text": [
            "`low_cpu_mem_usage` was None, now set to True since model is quantized.\n"
          ]
        },
        {
          "output_type": "display_data",
          "data": {
            "text/plain": [
              "Loading checkpoint shards:   0%|          | 0/3 [00:00<?, ?it/s]"
            ],
            "application/vnd.jupyter.widget-view+json": {
              "version_major": 2,
              "version_minor": 0,
              "model_id": "895183d190b740308d3f9fbe99446801"
            }
          },
          "metadata": {}
        }
      ],
      "source": [
        "from transformers import (AutoModelForCausalLM, AutoTokenizer,\n",
        "                          BitsAndBytesConfig, TextStreamer)\n",
        "\n",
        "# Wybór urządzenia do uruchomienia modelu\n",
        "device = \"cuda\"\n",
        "model_name = 'speakleash/Bielik-7B-Instruct-v0.1'\n",
        "\n",
        "# Ustawienie kwantyzacji na 4 bity, aby zmieścić na GPU na Colabie\n",
        "load_4_bit = True\n",
        "\n",
        "# Ustawienie tokenizera i kluczowych tokenów\n",
        "tokenizer = AutoTokenizer.from_pretrained(model_name)\n",
        "tokenizer.pad_token = tokenizer.eos_token\n",
        "\n",
        "# Obsługa streamingu\n",
        "streamer = TextStreamer(tokenizer,\n",
        "                        skip_prompt=True,\n",
        "                        skip_special_tokens=True)\n",
        "\n",
        "# Przygotowanie zmiennej pod konfigurację kwantyzacji\n",
        "quantization_config = None\n",
        "\n",
        "if load_4_bit:\n",
        "  quantization_config = BitsAndBytesConfig(\n",
        "      load_in_4bit=True,\n",
        "      bnb_4bit_compute_dtype=torch.bfloat16)\n",
        "\n",
        "model = AutoModelForCausalLM.from_pretrained(\n",
        "    model_name,\n",
        "    torch_dtype=torch.bfloat16,\n",
        "    quantization_config=quantization_config)\n",
        "\n"
      ]
    },
    {
      "cell_type": "markdown",
      "metadata": {
        "id": "DMT64Pa06HR1"
      },
      "source": [
        "### Funkcja pomocnicza do generowania odpowiedzi"
      ]
    },
    {
      "cell_type": "code",
      "execution_count": 43,
      "metadata": {
        "id": "8fyc3sKm4n3J"
      },
      "outputs": [],
      "source": [
        "# Parametry modelu\n",
        "temperature = 0.0\n",
        "max_tokens = 256\n",
        "top_k = 100\n",
        "top_p = 1\n",
        "\n",
        "def generate(prompt: str,\n",
        "             max_tokens: int,\n",
        "             temperature: float = 0.0,\n",
        "             system: str = None,\n",
        "             return_str: bool = False):\n",
        "\n",
        "  messages = []\n",
        "\n",
        "  # Przygotowanie template z promptem\n",
        "  if system:\n",
        "    messages.append({\"role\": \"system\",\n",
        "                     \"content\": system})\n",
        "\n",
        "  messages.append({\"role\": \"user\",\n",
        "                   \"content\": prompt})\n",
        "\n",
        "  input_ids = tokenizer.apply_chat_template(messages, return_tensors=\"pt\")\n",
        "  model_inputs = input_ids\n",
        "\n",
        "  # Przerzucenie inputu na GPU, jeśli jest dostępne\n",
        "  if torch.cuda.is_available():\n",
        "    model_inputs = input_ids.to(device)\n",
        "\n",
        "  # Generowanie odpowiedzi przez model\n",
        "  outputs = model.generate(\n",
        "      model_inputs,\n",
        "      streamer = streamer,\n",
        "      max_new_tokens=max_tokens,\n",
        "      do_sample=True if temperature else False,\n",
        "      temperature = temperature,\n",
        "      top_k = top_k,\n",
        "      top_p = top_p)\n",
        "\n",
        "  # Wydrukowanie odpowiedzi modelu bądź zwrotka do zmiennej\n",
        "  if return_str:\n",
        "    return tokenizer.batch_decode(outputs, skip_special_tokens=False)"
      ]
    },
    {
      "cell_type": "markdown",
      "metadata": {
        "id": "bnY_3s0u4My5"
      },
      "source": [
        "#### Test"
      ]
    },
    {
      "cell_type": "code",
      "execution_count": 12,
      "metadata": {
        "colab": {
          "base_uri": "https://localhost:8080/"
        },
        "id": "oOKfgKJU0R_J",
        "outputId": "0344b0ca-7636-45bd-eca7-048369daa596"
      },
      "outputs": [
        {
          "output_type": "stream",
          "name": "stderr",
          "text": [
            "The attention mask and the pad token id were not set. As a consequence, you may observe unexpected behavior. Please pass your input's `attention_mask` to obtain reliable results.\n",
            "Setting `pad_token_id` to `eos_token_id`:2 for open-end generation.\n"
          ]
        },
        {
          "output_type": "stream",
          "name": "stdout",
          "text": [
            "Cześć! Tak, jestem tutaj. W czym mogę Ci pomóc?\n"
          ]
        }
      ],
      "source": [
        "# Test generowania tekstu przez model\n",
        "generate(\"Hej, jesteś tam?\")"
      ]
    },
    {
      "cell_type": "code",
      "execution_count": 13,
      "metadata": {
        "colab": {
          "base_uri": "https://localhost:8080/"
        },
        "id": "GcQHXFZYzSRf",
        "outputId": "eb9ebef5-35ca-4a05-9fa5-f6a993ce4fcc"
      },
      "outputs": [
        {
          "output_type": "stream",
          "name": "stderr",
          "text": [
            "The attention mask and the pad token id were not set. As a consequence, you may observe unexpected behavior. Please pass your input's `attention_mask` to obtain reliable results.\n",
            "Setting `pad_token_id` to `eos_token_id`:2 for open-end generation.\n"
          ]
        },
        {
          "output_type": "stream",
          "name": "stdout",
          "text": [
            " Cześć! Jako programista baz danych specjalizuję się w projektowaniu, tworzeniu i zarządzaniu systemami, które przechowują i organizują duże zbiory danych. W ostatnim czasie zacząłem interesować się sztuczną inteligencją i uczeniem maszynowym, aby poszerzyć swoje kompetencje i zrozumieć, jak te technologie mogą wpływać na moją dziedzinę. Uczestniczę w kursach i czytam artykuły na temat AI, aby zdobyć wiedzę i umiejętności związane z wykorzystaniem AI w bazach danych. Chciałbym w przyszłości wdrażać rozwiązania AI i machine learning w mojej pracy, aby pomagać organizacjom w lepszym zrozumieniu i analizie ich danych. Czy masz jakieś pytania\n"
          ]
        }
      ],
      "source": [
        "# Test z promptem systemowym i właściwym\n",
        "generate(prompt=\"Hej, czym się zajmujesz?\",\n",
        "         system=\"Jesteś programistą baz danych, który chce rozwijać swoje kompetencje w obszarze AI\")"
      ]
    },
    {
      "cell_type": "markdown",
      "metadata": {
        "id": "igmwz-HEyeMj"
      },
      "source": [
        "# Przykład 1\n",
        "\n",
        "Załóżmy, że chcesz dane osób w formacie JSON a jedyne co masz do dyspozycji to tekst gdzie są one zawarte. Jak ugryźć ten problem? Wystarczy użyć Bielika!\n",
        "\n",
        "Wybrałem pierwszy z brzegu artykuł: https://wydarzenia.interia.pl/malopolskie/news-prezydent-tarnowa-z-zarzutami-grozi-mu-wiezienie,nId,7762425"
      ]
    },
    {
      "cell_type": "markdown",
      "source": [
        "Najpierw musimy wydobyć tekst z artykułu! Do tego przydadzą się pythonowe biblioteki **requests** oraz **justext**!"
      ],
      "metadata": {
        "id": "7se5zOnw1cob"
      }
    },
    {
      "cell_type": "code",
      "source": [
        "# Instalacja niezbędnych bibliotek\n",
        "!pip install justext"
      ],
      "metadata": {
        "colab": {
          "base_uri": "https://localhost:8080/"
        },
        "id": "fUGrw5hi1a-j",
        "outputId": "95cf9b2d-d278-4eb5-a065-46579f91fbd7"
      },
      "execution_count": 18,
      "outputs": [
        {
          "output_type": "stream",
          "name": "stdout",
          "text": [
            "Requirement already satisfied: beautifulsoup4 in /usr/local/lib/python3.10/dist-packages (4.12.3)\n",
            "Collecting justext\n",
            "  Downloading jusText-3.0.1-py2.py3-none-any.whl.metadata (6.9 kB)\n",
            "Requirement already satisfied: soupsieve>1.2 in /usr/local/lib/python3.10/dist-packages (from beautifulsoup4) (2.6)\n",
            "Requirement already satisfied: lxml>=4.4.2 in /usr/local/lib/python3.10/dist-packages (from lxml[html_clean]>=4.4.2->justext) (4.9.4)\n",
            "\u001b[33mWARNING: lxml 4.9.4 does not provide the extra 'html-clean'\u001b[0m\u001b[33m\n",
            "\u001b[0mDownloading jusText-3.0.1-py2.py3-none-any.whl (837 kB)\n",
            "\u001b[2K   \u001b[90m━━━━━━━━━━━━━━━━━━━━━━━━━━━━━━━━━━━━━━━━\u001b[0m \u001b[32m837.8/837.8 kB\u001b[0m \u001b[31m21.5 MB/s\u001b[0m eta \u001b[36m0:00:00\u001b[0m\n",
            "\u001b[?25hInstalling collected packages: justext\n",
            "Successfully installed justext-3.0.1\n"
          ]
        }
      ]
    },
    {
      "cell_type": "code",
      "source": [
        "import requests\n",
        "import justext\n",
        "\n",
        "url = \"https://wydarzenia.interia.pl/malopolskie/news-prezydent-tarnowa-z-zarzutami-grozi-mu-wiezienie,nId,7762425\"\n",
        "\n",
        "def get_article_from_url(url: str):\n",
        "  # Przygotowanie zmiennej do zbierania fragmentów artykułu ze strony internetowej\n",
        "  article_parts = []\n",
        "\n",
        "  # Zebranie odpowiedzi w HTML\n",
        "  response = requests.get(url)\n",
        "\n",
        "  # Przetworzenie odpowiedzi przy użyciu biblioteki justext\n",
        "  paragraphs = justext.justext(response.content, justext.get_stoplist(\"Polish\"))\n",
        "  for paragraph in paragraphs:\n",
        "    if not paragraph.is_boilerplate:\n",
        "      article_parts.append(paragraph.text)\n",
        "\n",
        "  return \" \".join(article_parts)"
      ],
      "metadata": {
        "id": "9EwpmHIU1cOw"
      },
      "execution_count": 41,
      "outputs": []
    },
    {
      "cell_type": "code",
      "source": [
        "# Test działania funkcji\n",
        "get_article_from_url(url)"
      ],
      "metadata": {
        "colab": {
          "base_uri": "https://localhost:8080/",
          "height": 165
        },
        "id": "o64Gdwl32bsz",
        "outputId": "008c6b2b-e7c1-4fad-ebde-35449a3fd854"
      },
      "execution_count": 42,
      "outputs": [
        {
          "output_type": "execute_result",
          "data": {
            "text/plain": [
              "'Prezydent Tarnowa z zarzutami. Grozi mu więzienie Prezydent Tarnowa Jakub Kwaśny oraz były prorektor Uniwersytetu Ekonomicznego w Krakowie Piotr Buła usłyszeli zarzuty. To pokłosie śledztwa prowadzonego przez prokuraturę w sprawie nadużyć finansowych, do jakich miało dochodzić na krakowskiej uczelni. Podejrzani odmówili składania wyjaśnień. Obu grozi do ośmiu lat więzienia. Prezydent Tarnowa Jakub Kwaśny z zarzutami. Chodzi o nieprawidłowości na Uniwersytecie Ekonomicznym w Krakowie/Grzegorz Klatka/Artur Gawle/Agencja FORUM Reklama O sprawie zrobiło się głośno we wrześniu 2023 roku. Wówczas decyzją ówczesnego rektora Uniwersytetu Ekonomicznego w Krakowie prof. Stanisława Mazura funkcję prorektora ds. współpracy stracił prof. Piotr Buła, a ze stanowiska dyrektora Krakowskiej Szkoły Biznesu UEK odwołany został dr Jakub Kwaśny. Prezydent Tranowa Jakub Kwaśny usłyszał zarzuty. Chodzi o nieprawidłowości na uczelni Z pojawiających się wtedy doniesień wynikało, że chodzi o możliwe nieprawidłowości w zakresie wydatkowania środków publicznych oraz zawierania umów cywilnoprawnych w Krakowskiej Szkole Biznesu. Mowa była o kwocie ponad 219 tys. złotych. Sprawą zajęła się prokuratura. Reklama Lokalne media ustaliły, że po miesiącach śledztwa Piotrowi Bule i Jakubowi Kwaśnemu, w sprawie m.in. nadużycia uprawnień, zostały już postawione zarzuty, które zagrożone są karą pozbawienia wolności do ośmiu lat. Chodzi o działanie w celu osiągnięcia korzyści majątkowej przez osobę, która jest zobowiązana do zajmowania się sprawami majątkowymi, w tym przypadku uczelni - podaje serwis lovekrakow.pl. Jak poinformowała prokuratura, podejrzani nie przyznali się do zarzucanych im czynów i odmówili składania wyjaśnień. Jednocześnie śledztwo zostało przedłużone do 16 listopada. \"Nie mam sobie nic do zarzucenia\". Jakub Kwaśny wydał oświadczenie Jakub Kwaśny sprawuje obecnie urząd prezydenta Tarnowa. Z kolei Piotr Buła planował wystartować w wyborach na rektora UEK (po objęciu przez Stanisława Mazura funkcji wiceprezydenta Krakowa), jednak ze względu na decyzje rady uczelni nie został wpisany na listę kandydatów. Kwaśny w obszernym oświadczeniu wysłanym lokalnym mediom, podał, że \"nie ma sobie nic do zarzucenia\". Buła zwrócił z kolei uwagę na \"kontekst wyborczy całej sprawy\" związany z wyborami rektorskimi. Obaj zdecydowali się również wytoczyć sprawę przeciwko Mazurowi. Reklama \"Broniąc swojego dobrego imienia przed bezpodstawnymi zarzutami i insynuacjami wniosłem do sądu - wraz z prof. Bułą - oskarżenie o zniesławienie przeciwko byłemu już rektorowi UEK - Stanisławowi Mazurowi, które to postępowanie jest w toku\" - czytamy w piśmie przesłanym krakowskiemu serwisowi przez prezydenta Tarnowa.'"
            ],
            "application/vnd.google.colaboratory.intrinsic+json": {
              "type": "string"
            }
          },
          "metadata": {},
          "execution_count": 42
        }
      ]
    },
    {
      "cell_type": "code",
      "execution_count": 44,
      "metadata": {
        "colab": {
          "base_uri": "https://localhost:8080/"
        },
        "id": "KpvjcGVFpxu4",
        "outputId": "fb8dcee7-dda3-484c-8d3c-450e735be7b1"
      },
      "outputs": [
        {
          "output_type": "stream",
          "name": "stderr",
          "text": [
            "The attention mask and the pad token id were not set. As a consequence, you may observe unexpected behavior. Please pass your input's `attention_mask` to obtain reliable results.\n",
            "Setting `pad_token_id` to `eos_token_id`:2 for open-end generation.\n"
          ]
        },
        {
          "output_type": "stream",
          "name": "stdout",
          "text": [
            " Prezydent Tarnowa Jakub Kwaśny oraz były prorektor Uniwersytetu Ekonomicznego w Krakowie Piotr Buła usłyszeli zarzuty w związku z nadużyciami finansowymi na uczelni. Obaj podejrzani odmówili składania wyjaśnień. Grozi im do ośmiu lat więzienia. Sprawa ma kontekst wyborczy, ponieważ prof. Piotr Buła planował startować w wyborach na rektora UEK, a Jakub Kwaśny jest obecnie prezydentem Tarnowa. Obaj twierdzą, że są niewinni i wytoczyli sprawę o zniesławienie przeciwko byłemu rektorowi UEK Stanisławowi Mazurowi.\n"
          ]
        }
      ],
      "source": [
        "# Pobranie treści artykułu do zmiennej\n",
        "article = get_article_from_url(url)\n",
        "\n",
        "# Przygotowanie promptów\n",
        "system = 'Jesteś ekspertem od ekstrakcji danych osobowych z artykułów i strukturyzowania ich do formatu obiektów JSON. Przeanalizuj otrzymany tekst i zwróć odpowiedź z formacie JSON z kluczami takimi jak: imię, nazwisko, funkcja, miejsce zamieszkania.'\n",
        "prompt = f\"Tekst do analizy: {article}\"\n",
        "\n",
        "# Zwiększenie limitu tokenów\n",
        "max_tokens = 500\n",
        "\n",
        "# Generowanie odpowiedzi Bielika!\n",
        "generate(prompt,\n",
        "         max_tokens=max_tokens)"
      ]
    },
    {
      "cell_type": "markdown",
      "source": [
        "### Odpowiedź (na ten moment z Areny)\n",
        "\n",
        "Na podstawie podanego tekstu, stworzyłem obiekt JSON zawierający wymagane informacje:\n",
        "\n",
        "```json\n",
        "{\n",
        "  \"osoby\": [\n",
        "    {\n",
        "      \"imie\": \"Jakub\",\n",
        "      \"nazwisko\": \"Kwaśny\",\n",
        "      \"funkcja\": \"Prezydent Tarnowa\",\n",
        "      \"miejsce_zamieszkania\": \"Tarnów\"\n",
        "    },\n",
        "    {\n",
        "      \"imie\": \"Piotr\",\n",
        "      \"nazwisko\": \"Buła\",\n",
        "      \"funkcja\": \"Były prorektor Uniwersytetu Ekonomicznego w Krakowie\",\n",
        "      \"miejsce_zamieszkania\": \"Kraków\"\n",
        "    }\n",
        "  ]\n",
        "}\n",
        "```\n",
        "Wyjaśnienie krok po kroku:\n",
        "\n",
        "1. Zidentyfikowałem kluczowe informacje o osobach wymienionych w tekście:\n",
        "* Jakub Kwaśny: Prezydent Tarnowa\n",
        "* Piotr Buła: Były prorektor Uniwersytetu Ekonomicznego w Krakowie\n",
        "\n",
        "2. Określiłem miejsce zamieszkania na podstawie kontekstu:\n",
        "* Jakub Kwaśny: Tarnów (jako prezydent miasta)\n",
        "* Piotr Buła: Kraków (związany z Uniwersytetem Ekonomicznym w Krakowie)\n",
        "\n",
        "3. Utworzyłem obiekt JSON z listą osób, gdzie każda osoba ma przypisane imię, nazwisko, funkcję i miejsce zamieszkania."
      ],
      "metadata": {
        "id": "HkWnKM047i_E"
      }
    },
    {
      "cell_type": "markdown",
      "metadata": {
        "id": "ctgLpx6NzCEQ"
      },
      "source": [
        "# Przykład 2\n",
        "\n",
        "Wykorzystamy ten sam artykuł, ale damy modelowi nieco większą swobodę twórczą w prompcie!"
      ]
    },
    {
      "cell_type": "code",
      "execution_count": 45,
      "metadata": {
        "id": "QI_BQbT7zO_W",
        "colab": {
          "base_uri": "https://localhost:8080/"
        },
        "outputId": "ee038f74-c0c6-4c59-a712-17ae5415d7eb"
      },
      "outputs": [
        {
          "output_type": "stream",
          "name": "stderr",
          "text": [
            "The attention mask and the pad token id were not set. As a consequence, you may observe unexpected behavior. Please pass your input's `attention_mask` to obtain reliable results.\n",
            "Setting `pad_token_id` to `eos_token_id`:2 for open-end generation.\n"
          ]
        },
        {
          "output_type": "stream",
          "name": "stdout",
          "text": [
            " Prezydent Tarnowa Jakub Kwaśny oraz były prorektor Uniwersytetu Ekonomicznego w Krakowie Piotr Buła usłyszeli zarzuty w związku z nadużyciami finansowymi na uczelni. Obaj podejrzani odmówili składania wyjaśnień. Grozi im do ośmiu lat więzienia. Sprawa ma kontekst wyborczy, ponieważ prof. Piotr Buła planował startować w wyborach na rektora UEK, a Jakub Kwaśny jest obecnie prezydentem Tarnowa. Obaj twierdzą, że są niewinni i wytoczyli sprawę o zniesławienie przeciwko byłemu rektorowi UEK Stanisławowi Mazurowi.\n"
          ]
        }
      ],
      "source": [
        "article = get_article_from_url(url)\n",
        "\n",
        "system = 'Jesteś ekspertem od ekstrakcji danych osobowych z artykułów i strukturyzowania ich do formatu obiektów JSON. Przeanalizuj otrzymany tekst i zwróć odpowiedź z formacie JSON z istotnymi informacjami, na które warto zwrócić uwagę.'\n",
        "prompt = f\"Tekst do analizy: {article}\"\n",
        "max_tokens = 550\n",
        "\n",
        "generate(prompt,\n",
        "         max_tokens=max_tokens)"
      ]
    },
    {
      "cell_type": "markdown",
      "source": [
        "### Odpowiedź Bielika (z Areny)\n",
        "\n",
        "Oto informacje z podanego tekstu w formacie JSON:\n",
        "\n",
        "```json\n",
        "{\n",
        "  \"osoby\": [\n",
        "    {\n",
        "      \"imie\": \"Jakub\",\n",
        "      \"nazwisko\": \"Kwaśny\",\n",
        "      \"stanowisko\": \"Prezydent Tarnowa\",\n",
        "      \"zarzuty\": [\"nadużycia finansowe\", \"nieprawidłowości w wydatkowaniu środków publicznych\", \"nadużycie uprawnień\"],\n",
        "      \"kara\": \"do 8 lat więzienia\",\n",
        "      \"reakcja\": \"nie przyznał się do zarzutów, odmówił składania wyjaśnień\",\n",
        "      \"oswiadczenie\": \"nie ma sobie nic do zarzucenia\"\n",
        "    },\n",
        "    {\n",
        "      \"imie\": \"Piotr\",\n",
        "      \"nazwisko\": \"Buła\",\n",
        "      \"stanowisko\": \"były prorektor Uniwersytetu Ekonomicznego w Krakowie\",\n",
        "      \"zarzuty\": [\"nadużycia finansowe\", \"nieprawidłowości w wydatkowaniu środków publicznych\", \"nadużycie uprawnień\"],\n",
        "      \"kara\": \"do 8 lat więzienia\",\n",
        "      \"reakcja\": \"nie przyznał się do zarzutów, odmówił składania wyjaśnień\",\n",
        "      \"oswiadczenie\": \"zwrócił uwagę na kontekst wyborczy sprawy\"\n",
        "    },\n",
        "    {\n",
        "      \"imie\": \"Stanisław\",\n",
        "      \"nazwisko\": \"Mazur\",\n",
        "      \"stanowisko\": \"były rektor Uniwersytetu Ekonomicznego w Krakowie, obecnie wiceprezydent Krakowa\",\n",
        "      \"powiazania\": [\"wytoczona sprawa o zniesławienie przez Kwaśnego i Bułę\"]\n",
        "    }\n",
        "  ],\n",
        "  \"sprawa\": {\n",
        "    \"opis\": \"nadużycia finansowe na Uniwersytecie Ekonomicznym w Krakowie\",\n",
        "    \"kwota\": \"ponad 219 tys. złotych\",\n",
        "    \"zarzuty\": [\"nadużycie uprawnień\", \"działanie w celu osiągnięcia korzyści majątkowej\"],\n",
        "    \"prokuratura\": {\n",
        "      \"postawienie_zarzutow\": \"wrzesień 2023\",\n",
        "      \"przedluzenie_sledztwa\": \"do 16 listopada\"\n",
        "    },\n",
        "    \"media\": {\n",
        "      \"lokalne\": \"lovekrakow.pl\",\n",
        "      \"inne\": [\"lokalne media\"]\n",
        "    }\n",
        "  },\n",
        "  \"kontekst\": {\n",
        "    \"wybory\": {\n",
        "      \"rektora_UEK\": {\n",
        "        \"kandydaci\": [\"Piotr Buła\"],\n",
        "        \"przeszkody\": [\"decyzje rady uczelni\"]\n",
        "      }\n",
        "    }\n",
        "  }\n",
        "}\n",
        "```\n",
        "\n",
        "Ten format JSON zawiera kluczowe informacje z podanego tekstu, pogrupowane w logiczne sekcje. Każda osoba ma swoje podsekcje z istotnymi szczegółami, a sprawa i kontekst są oddzielnie opisane. Format ten ułatwia dalsze przetwarzanie i analizę danych."
      ],
      "metadata": {
        "id": "dfIakK4h8bxb"
      }
    },
    {
      "cell_type": "markdown",
      "metadata": {
        "id": "GIE2Tl-c6YRm"
      },
      "source": [
        "# Przykład 3\n",
        "\n",
        "Teraz Bielik dostanie pełną swobodę, zobaczymy co odpowie tym razem..."
      ]
    },
    {
      "cell_type": "code",
      "execution_count": 46,
      "metadata": {
        "id": "MPBNIITq_Ug8",
        "colab": {
          "base_uri": "https://localhost:8080/"
        },
        "outputId": "89910b15-b7a5-4c6e-ffea-71c666948074"
      },
      "outputs": [
        {
          "output_type": "stream",
          "name": "stderr",
          "text": [
            "The attention mask and the pad token id were not set. As a consequence, you may observe unexpected behavior. Please pass your input's `attention_mask` to obtain reliable results.\n",
            "Setting `pad_token_id` to `eos_token_id`:2 for open-end generation.\n"
          ]
        },
        {
          "output_type": "stream",
          "name": "stdout",
          "text": [
            " Prezydent Tarnowa Jakub Kwaśny oraz były prorektor Uniwersytetu Ekonomicznego w Krakowie Piotr Buła usłyszeli zarzuty w związku z nadużyciami finansowymi na uczelni. Obaj podejrzani odmówili składania wyjaśnień. Grozi im do ośmiu lat więzienia. Sprawa ma kontekst wyborczy, ponieważ prof. Piotr Buła planował startować w wyborach na rektora UEK, a Jakub Kwaśny jest obecnie prezydentem Tarnowa. Obaj twierdzą, że są niewinni i wytoczyli sprawę o zniesławienie przeciwko byłemu rektorowi UEK Stanisławowi Mazurowi.\n"
          ]
        }
      ],
      "source": [
        "article = get_article_from_url(url)\n",
        "\n",
        "system = 'Jesteś ekspertem od ekstrakcji danych osobowych z artykułów i strukturyzowania ich do formatu obiektów JSON. Przeanalizuj otrzymany tekst i zwróć go w formacie JSON.'\n",
        "prompt = f\"Tekst do analizy: {article}\"\n",
        "max_tokens = 550\n",
        "\n",
        "generate(prompt,\n",
        "         max_tokens=max_tokens)"
      ]
    },
    {
      "cell_type": "markdown",
      "source": [
        "Oto strukturyzowane dane w formacie JSON na podstawie podanego tekstu:\n",
        "\n",
        "```json\n",
        "{\n",
        "  \"tytul\": \"Prezydent Tarnowa z zarzutami. Grozi mu więzienie\",\n",
        "  \"osoby\": [\n",
        "    {\n",
        "      \"imie\": \"Jakub\",\n",
        "      \"nazwisko\": \"Kwaśny\",\n",
        "      \"stanowisko\": \"Prezydent Tarnowa\",\n",
        "      \"zarzuty\": [\"nadużycia finansowe\", \"nieprawidłowości w wydatkowaniu środków publicznych\", \"nadużycie uprawnień\"],\n",
        "      \"kara\": \"do 8 lat więzienia\",\n",
        "      \"reakcja\": \"nie przyznał się do zarzutów, odmówił składania wyjaśnień\",\n",
        "      \"oswiadczenie\": \"nie ma sobie nic do zarzucenia\"\n",
        "    },\n",
        "    {\n",
        "      \"imie\": \"Piotr\",\n",
        "      \"nazwisko\": \"Buła\",\n",
        "      \"stanowisko\": \"były prorektor Uniwersytetu Ekonomicznego w Krakowie\",\n",
        "      \"zarzuty\": [\"nadużycia finansowe\", \"nieprawidłowości w wydatkowaniu środków publicznych\", \"nadużycie uprawnień\"],\n",
        "      \"kara\": \"do 8 lat więzienia\",\n",
        "      \"reakcja\": \"nie przyznał się do zarzutów, odmówił składania wyjaśnień\",\n",
        "      \"oswiadczenie\": \"zwrócił uwagę na kontekst wyborczy sprawy\"\n",
        "    },\n",
        "    {\n",
        "      \"imie\": \"Stanisław\",\n",
        "      \"nazwisko\": \"Mazur\",\n",
        "      \"stanowisko\": \"były rektor Uniwersytetu Ekonomicznego w Krakowie, obecnie wiceprezydent Krakowa\",\n",
        "      \"powiazania\": [\"wytoczona sprawa o zniesławienie przez Kwaśnego i Bułę\"]\n",
        "    }\n",
        "  ],\n",
        "  \"uczelnia\": {\n",
        "    \"nazwa\": \"Uniwersytet Ekonomiczny w Krakowie\",\n",
        "    \"szkola_biznesu\": {\n",
        "      \"nazwa\": \"Krakowska Szkoła Biznesu UEK\",\n",
        "      \"nieprawidlowosci\": \"wydatkowanie środków publicznych i zawieranie umów cywilnoprawnych\",\n",
        "      \"kwota\": \"ponad 219 tys. złotych\"\n",
        "    }\n",
        "  },\n",
        "  \"data\": \"wrzesień 2023\",\n",
        "  \"postepowanie\": {\n",
        "    \"status\": \"w toku\",\n",
        "    \"przedluzenie\": \"do 16 listopada\"\n",
        "  },\n",
        "  \"media\": {\n",
        "    \"lokalne\": [\"lovekrakow.pl\"]\n",
        "  }\n",
        "}\n",
        "```\n",
        "\n",
        "Ten format JSON zawiera kluczowe informacje z tekstu, zorganizowane w hierarchiczny sposób, co ułatwia dostęp do danych i ich analizę."
      ],
      "metadata": {
        "id": "CWTx7L_4_gqw"
      }
    },
    {
      "cell_type": "markdown",
      "source": [
        "## Podsumowanie\n",
        "Jak widać, ekstrakcja danych do formatu JSON z tekstu jest dziecinnie prosta dla Bielika. Wystarczy krótki, prosty prompt, darmowe GPU na Colabie i voila - dane w JSONie gotowe!\n",
        "\n",
        "Zapraszam do sprawdzenia pozostałych notebooków i tutoriali przygotowanych przez naszą społeczność!"
      ],
      "metadata": {
        "id": "TiAroHoZ_4NF"
      }
    }
  ],
  "metadata": {
    "accelerator": "GPU",
    "colab": {
      "gpuType": "T4",
      "provenance": []
    },
    "kernelspec": {
      "display_name": "Python 3",
      "name": "python3"
    },
    "language_info": {
      "name": "python"
    },
    "widgets": {
      "application/vnd.jupyter.widget-state+json": {
        "895183d190b740308d3f9fbe99446801": {
          "model_module": "@jupyter-widgets/controls",
          "model_name": "HBoxModel",
          "model_module_version": "1.5.0",
          "state": {
            "_dom_classes": [],
            "_model_module": "@jupyter-widgets/controls",
            "_model_module_version": "1.5.0",
            "_model_name": "HBoxModel",
            "_view_count": null,
            "_view_module": "@jupyter-widgets/controls",
            "_view_module_version": "1.5.0",
            "_view_name": "HBoxView",
            "box_style": "",
            "children": [
              "IPY_MODEL_9151fb38f1f24d08a26672c5f0dfdaed",
              "IPY_MODEL_fe1e83c1013948d1b746c39ca73b94e4",
              "IPY_MODEL_ad6e2d0f5db14dfcb797e5b54f8db4bc"
            ],
            "layout": "IPY_MODEL_b419680063da411db2051cdb2f397c82"
          }
        },
        "9151fb38f1f24d08a26672c5f0dfdaed": {
          "model_module": "@jupyter-widgets/controls",
          "model_name": "HTMLModel",
          "model_module_version": "1.5.0",
          "state": {
            "_dom_classes": [],
            "_model_module": "@jupyter-widgets/controls",
            "_model_module_version": "1.5.0",
            "_model_name": "HTMLModel",
            "_view_count": null,
            "_view_module": "@jupyter-widgets/controls",
            "_view_module_version": "1.5.0",
            "_view_name": "HTMLView",
            "description": "",
            "description_tooltip": null,
            "layout": "IPY_MODEL_526d4fa2926c46c9b4207a5d203974cb",
            "placeholder": "​",
            "style": "IPY_MODEL_e3ecd0489c6346b1b06194693ff66fe6",
            "value": "Loading checkpoint shards: 100%"
          }
        },
        "fe1e83c1013948d1b746c39ca73b94e4": {
          "model_module": "@jupyter-widgets/controls",
          "model_name": "FloatProgressModel",
          "model_module_version": "1.5.0",
          "state": {
            "_dom_classes": [],
            "_model_module": "@jupyter-widgets/controls",
            "_model_module_version": "1.5.0",
            "_model_name": "FloatProgressModel",
            "_view_count": null,
            "_view_module": "@jupyter-widgets/controls",
            "_view_module_version": "1.5.0",
            "_view_name": "ProgressView",
            "bar_style": "success",
            "description": "",
            "description_tooltip": null,
            "layout": "IPY_MODEL_ef207614c0fe48c2997dd134fc321717",
            "max": 3,
            "min": 0,
            "orientation": "horizontal",
            "style": "IPY_MODEL_ad2690f47b8349f8914821c2edd2cc34",
            "value": 3
          }
        },
        "ad6e2d0f5db14dfcb797e5b54f8db4bc": {
          "model_module": "@jupyter-widgets/controls",
          "model_name": "HTMLModel",
          "model_module_version": "1.5.0",
          "state": {
            "_dom_classes": [],
            "_model_module": "@jupyter-widgets/controls",
            "_model_module_version": "1.5.0",
            "_model_name": "HTMLModel",
            "_view_count": null,
            "_view_module": "@jupyter-widgets/controls",
            "_view_module_version": "1.5.0",
            "_view_name": "HTMLView",
            "description": "",
            "description_tooltip": null,
            "layout": "IPY_MODEL_aa4fb9eda55e445aafeb5cc6be6ba2f4",
            "placeholder": "​",
            "style": "IPY_MODEL_90be1abd750b42fc9ce632ae74622b77",
            "value": " 3/3 [01:10&lt;00:00, 22.91s/it]"
          }
        },
        "b419680063da411db2051cdb2f397c82": {
          "model_module": "@jupyter-widgets/base",
          "model_name": "LayoutModel",
          "model_module_version": "1.2.0",
          "state": {
            "_model_module": "@jupyter-widgets/base",
            "_model_module_version": "1.2.0",
            "_model_name": "LayoutModel",
            "_view_count": null,
            "_view_module": "@jupyter-widgets/base",
            "_view_module_version": "1.2.0",
            "_view_name": "LayoutView",
            "align_content": null,
            "align_items": null,
            "align_self": null,
            "border": null,
            "bottom": null,
            "display": null,
            "flex": null,
            "flex_flow": null,
            "grid_area": null,
            "grid_auto_columns": null,
            "grid_auto_flow": null,
            "grid_auto_rows": null,
            "grid_column": null,
            "grid_gap": null,
            "grid_row": null,
            "grid_template_areas": null,
            "grid_template_columns": null,
            "grid_template_rows": null,
            "height": null,
            "justify_content": null,
            "justify_items": null,
            "left": null,
            "margin": null,
            "max_height": null,
            "max_width": null,
            "min_height": null,
            "min_width": null,
            "object_fit": null,
            "object_position": null,
            "order": null,
            "overflow": null,
            "overflow_x": null,
            "overflow_y": null,
            "padding": null,
            "right": null,
            "top": null,
            "visibility": null,
            "width": null
          }
        },
        "526d4fa2926c46c9b4207a5d203974cb": {
          "model_module": "@jupyter-widgets/base",
          "model_name": "LayoutModel",
          "model_module_version": "1.2.0",
          "state": {
            "_model_module": "@jupyter-widgets/base",
            "_model_module_version": "1.2.0",
            "_model_name": "LayoutModel",
            "_view_count": null,
            "_view_module": "@jupyter-widgets/base",
            "_view_module_version": "1.2.0",
            "_view_name": "LayoutView",
            "align_content": null,
            "align_items": null,
            "align_self": null,
            "border": null,
            "bottom": null,
            "display": null,
            "flex": null,
            "flex_flow": null,
            "grid_area": null,
            "grid_auto_columns": null,
            "grid_auto_flow": null,
            "grid_auto_rows": null,
            "grid_column": null,
            "grid_gap": null,
            "grid_row": null,
            "grid_template_areas": null,
            "grid_template_columns": null,
            "grid_template_rows": null,
            "height": null,
            "justify_content": null,
            "justify_items": null,
            "left": null,
            "margin": null,
            "max_height": null,
            "max_width": null,
            "min_height": null,
            "min_width": null,
            "object_fit": null,
            "object_position": null,
            "order": null,
            "overflow": null,
            "overflow_x": null,
            "overflow_y": null,
            "padding": null,
            "right": null,
            "top": null,
            "visibility": null,
            "width": null
          }
        },
        "e3ecd0489c6346b1b06194693ff66fe6": {
          "model_module": "@jupyter-widgets/controls",
          "model_name": "DescriptionStyleModel",
          "model_module_version": "1.5.0",
          "state": {
            "_model_module": "@jupyter-widgets/controls",
            "_model_module_version": "1.5.0",
            "_model_name": "DescriptionStyleModel",
            "_view_count": null,
            "_view_module": "@jupyter-widgets/base",
            "_view_module_version": "1.2.0",
            "_view_name": "StyleView",
            "description_width": ""
          }
        },
        "ef207614c0fe48c2997dd134fc321717": {
          "model_module": "@jupyter-widgets/base",
          "model_name": "LayoutModel",
          "model_module_version": "1.2.0",
          "state": {
            "_model_module": "@jupyter-widgets/base",
            "_model_module_version": "1.2.0",
            "_model_name": "LayoutModel",
            "_view_count": null,
            "_view_module": "@jupyter-widgets/base",
            "_view_module_version": "1.2.0",
            "_view_name": "LayoutView",
            "align_content": null,
            "align_items": null,
            "align_self": null,
            "border": null,
            "bottom": null,
            "display": null,
            "flex": null,
            "flex_flow": null,
            "grid_area": null,
            "grid_auto_columns": null,
            "grid_auto_flow": null,
            "grid_auto_rows": null,
            "grid_column": null,
            "grid_gap": null,
            "grid_row": null,
            "grid_template_areas": null,
            "grid_template_columns": null,
            "grid_template_rows": null,
            "height": null,
            "justify_content": null,
            "justify_items": null,
            "left": null,
            "margin": null,
            "max_height": null,
            "max_width": null,
            "min_height": null,
            "min_width": null,
            "object_fit": null,
            "object_position": null,
            "order": null,
            "overflow": null,
            "overflow_x": null,
            "overflow_y": null,
            "padding": null,
            "right": null,
            "top": null,
            "visibility": null,
            "width": null
          }
        },
        "ad2690f47b8349f8914821c2edd2cc34": {
          "model_module": "@jupyter-widgets/controls",
          "model_name": "ProgressStyleModel",
          "model_module_version": "1.5.0",
          "state": {
            "_model_module": "@jupyter-widgets/controls",
            "_model_module_version": "1.5.0",
            "_model_name": "ProgressStyleModel",
            "_view_count": null,
            "_view_module": "@jupyter-widgets/base",
            "_view_module_version": "1.2.0",
            "_view_name": "StyleView",
            "bar_color": null,
            "description_width": ""
          }
        },
        "aa4fb9eda55e445aafeb5cc6be6ba2f4": {
          "model_module": "@jupyter-widgets/base",
          "model_name": "LayoutModel",
          "model_module_version": "1.2.0",
          "state": {
            "_model_module": "@jupyter-widgets/base",
            "_model_module_version": "1.2.0",
            "_model_name": "LayoutModel",
            "_view_count": null,
            "_view_module": "@jupyter-widgets/base",
            "_view_module_version": "1.2.0",
            "_view_name": "LayoutView",
            "align_content": null,
            "align_items": null,
            "align_self": null,
            "border": null,
            "bottom": null,
            "display": null,
            "flex": null,
            "flex_flow": null,
            "grid_area": null,
            "grid_auto_columns": null,
            "grid_auto_flow": null,
            "grid_auto_rows": null,
            "grid_column": null,
            "grid_gap": null,
            "grid_row": null,
            "grid_template_areas": null,
            "grid_template_columns": null,
            "grid_template_rows": null,
            "height": null,
            "justify_content": null,
            "justify_items": null,
            "left": null,
            "margin": null,
            "max_height": null,
            "max_width": null,
            "min_height": null,
            "min_width": null,
            "object_fit": null,
            "object_position": null,
            "order": null,
            "overflow": null,
            "overflow_x": null,
            "overflow_y": null,
            "padding": null,
            "right": null,
            "top": null,
            "visibility": null,
            "width": null
          }
        },
        "90be1abd750b42fc9ce632ae74622b77": {
          "model_module": "@jupyter-widgets/controls",
          "model_name": "DescriptionStyleModel",
          "model_module_version": "1.5.0",
          "state": {
            "_model_module": "@jupyter-widgets/controls",
            "_model_module_version": "1.5.0",
            "_model_name": "DescriptionStyleModel",
            "_view_count": null,
            "_view_module": "@jupyter-widgets/base",
            "_view_module_version": "1.2.0",
            "_view_name": "StyleView",
            "description_width": ""
          }
        }
      }
    }
  },
  "nbformat": 4,
  "nbformat_minor": 0
}