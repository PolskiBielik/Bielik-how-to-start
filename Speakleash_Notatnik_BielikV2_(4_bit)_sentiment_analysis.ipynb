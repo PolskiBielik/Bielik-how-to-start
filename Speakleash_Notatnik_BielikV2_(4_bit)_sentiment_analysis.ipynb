{
  "cells": [
    {
      "cell_type": "markdown",
      "metadata": {
        "id": "V55IAMNhYrP9"
      },
      "source": [
        "<p align=\"center\">\n",
        "  <img src=\"https://huggingface.co/speakleash/Bielik-7B-Instruct-v0.1/raw/main/speakleash_cyfronet.png\">\n",
        "</p>"
      ]
    },
    {
      "cell_type": "markdown",
      "metadata": {
        "id": "fLjD5NSinlFS"
      },
      "source": [
        "W tym notebooku przejdziemy całą ścieżkę - od uruchomienia modelu aż po zwrot danych w formacie JSON. Zaczynajmy! :)"
      ]
    },
    {
      "cell_type": "markdown",
      "metadata": {
        "id": "dpi-lp87jeIu"
      },
      "source": [
        "### Przygotowanie środowiska"
      ]
    },
    {
      "cell_type": "code",
      "execution_count": null,
      "metadata": {
        "id": "07-4DrcSdEf8"
      },
      "outputs": [],
      "source": [
        "#%%capture\n",
        "\n",
        "!pip install accelerate -q\n",
        "!pip install -i https://pypi.org/simple/ bitsandbytes -q\n"
      ]
    },
    {
      "cell_type": "code",
      "execution_count": null,
      "metadata": {
        "id": "2iD0O366dg0K"
      },
      "outputs": [],
      "source": [
        "import gc\n",
        "import torch"
      ]
    },
    {
      "cell_type": "code",
      "execution_count": null,
      "metadata": {
        "id": "YfVY6E7ge6bT"
      },
      "outputs": [],
      "source": [
        "import warnings\n",
        "warnings.filterwarnings(\"ignore\") # tylko na potrzeby naszego demo ;)"
      ]
    },
    {
      "cell_type": "markdown",
      "source": [
        "### Gated models\n",
        "\n",
        "W przypadku modeli, na które zostały nałożone zabezpieczenia w postaci kontrolowanego dostępu (gated models), wymagane będzie podanie tokena użytkownika, dostępnego na portalu HuggingFace:\n",
        "\n",
        "* informacje dotyczące tokenów:\n",
        "https://huggingface.co/docs/hub/security-tokens\n",
        "* token użytkownika\n",
        "https://huggingface.co/settings/tokens\n",
        "\n",
        "W tym celu należy zainstalować bibliotekę `huggingface_hub[cli]` oraz dokonać logowania za pomocą tokena, co zostało zaprezentowane w poniższych 2 komórkach."
      ],
      "metadata": {
        "id": "N4BRCvbtoG6V"
      }
    },
    {
      "cell_type": "code",
      "source": [
        "!pip install -U \"huggingface_hub[cli]\" -q"
      ],
      "metadata": {
        "id": "bAfXC_TrhTsh"
      },
      "execution_count": null,
      "outputs": []
    },
    {
      "cell_type": "code",
      "source": [
        "!huggingface-cli login"
      ],
      "metadata": {
        "id": "JpIUJJXWhd4N"
      },
      "execution_count": null,
      "outputs": []
    },
    {
      "cell_type": "markdown",
      "metadata": {
        "id": "MqfY6a1qgvYi"
      },
      "source": [
        "### Inicjalizacja modelu (4 bit)"
      ]
    },
    {
      "cell_type": "code",
      "execution_count": null,
      "metadata": {
        "colab": {
          "base_uri": "https://localhost:8080/",
          "height": 82,
          "referenced_widgets": [
            "41072d4259044f92bc5a086bb56fb975",
            "be0906878ef64656aaa34cc81f9de989",
            "b6b5fd650d7d4f5db727714c771ac32a",
            "723e037f573641d0b9c910851257a81b",
            "7c9f9eafa5b543aa9e25e486723c9922",
            "8b8835f12d494ab1a2ace8a006f9a24a",
            "5809b2553b2b4e399b283ccc8ff550ff",
            "9d7e57f6d9d04411a1719b7cdba03c47",
            "ab07cb55a14e45138aedf6cb523513bf",
            "f1688cd8918f444b8c256e642b7d5b7d",
            "0774caad916543349083a2eccfbb311c"
          ]
        },
        "id": "vfWiekAIt0DR",
        "outputId": "a77e7ec2-569a-4fd9-c429-abfe254e153c"
      },
      "outputs": [
        {
          "output_type": "stream",
          "name": "stderr",
          "text": [
            "Special tokens have been added in the vocabulary, make sure the associated word embeddings are fine-tuned or trained.\n",
            "`low_cpu_mem_usage` was None, now set to True since model is quantized.\n"
          ]
        },
        {
          "output_type": "display_data",
          "data": {
            "text/plain": [
              "Loading checkpoint shards:   0%|          | 0/5 [00:00<?, ?it/s]"
            ],
            "application/vnd.jupyter.widget-view+json": {
              "version_major": 2,
              "version_minor": 0,
              "model_id": "41072d4259044f92bc5a086bb56fb975"
            }
          },
          "metadata": {}
        }
      ],
      "source": [
        "import torch\n",
        "from transformers import AutoModelForCausalLM, AutoTokenizer, BitsAndBytesConfig, TextStreamer\n",
        "\n",
        "device = \"cuda\"\n",
        "model_name = 'speakleash/Bielik-11B-v2.2-Instruct'\n",
        "\n",
        "tokenizer = AutoTokenizer.from_pretrained(model_name)\n",
        "tokenizer.pad_token = tokenizer.eos_token\n",
        "\n",
        "streamer = TextStreamer(tokenizer, skip_prompt=True, skip_special_tokens=True)\n",
        "\n",
        "quantization_config = BitsAndBytesConfig(\n",
        "        load_in_4bit=True,\n",
        "        bnb_4bit_compute_dtype=torch.bfloat16\n",
        ")\n",
        "\n",
        "model = AutoModelForCausalLM.from_pretrained(model_name,\n",
        "                                             torch_dtype=torch.bfloat16,\n",
        "                                             quantization_config=quantization_config\n",
        "                                             )"
      ]
    },
    {
      "cell_type": "markdown",
      "metadata": {
        "id": "DMT64Pa06HR1"
      },
      "source": [
        "### Funkcja pomocnicza do generowania odpowiedzi"
      ]
    },
    {
      "cell_type": "code",
      "execution_count": null,
      "metadata": {
        "id": "8fyc3sKm4n3J"
      },
      "outputs": [],
      "source": [
        "def generate(prompt: str,\n",
        "             max_tokens: int = 256,\n",
        "             temperature: float = 0.0,\n",
        "             top_k: int = 100,\n",
        "             top_p: int = 1,\n",
        "             system: str = None,\n",
        "             return_str: bool = False):\n",
        "\n",
        "  messages = []\n",
        "\n",
        "  # Przygotowanie template z promptem\n",
        "  if system:\n",
        "    messages.append({\"role\": \"system\",\n",
        "                     \"content\": system})\n",
        "\n",
        "  messages.append({\"role\": \"user\",\n",
        "                   \"content\": prompt})\n",
        "\n",
        "  input_ids = tokenizer.apply_chat_template(messages, return_tensors=\"pt\")\n",
        "  model_inputs = input_ids\n",
        "\n",
        "  # Przerzucenie inputu na GPU, jeśli jest dostępne\n",
        "  if torch.cuda.is_available():\n",
        "    model_inputs = input_ids.to(device)\n",
        "\n",
        "  # Generowanie odpowiedzi przez model\n",
        "  outputs = model.generate(\n",
        "      model_inputs,\n",
        "      streamer=streamer,\n",
        "      max_new_tokens=max_tokens,\n",
        "      do_sample=True if temperature else False,\n",
        "      temperature=temperature,\n",
        "      top_p=top_p,\n",
        "      top_k=top_k)\n",
        "\n",
        "  # Wydrukowanie odpowiedzi modelu bądź zwrotka do zmiennej\n",
        "  if return_str:\n",
        "    decoded = tokenizer.batch_decode(outputs)\n",
        "    return decoded[0]"
      ]
    },
    {
      "cell_type": "markdown",
      "metadata": {
        "id": "bnY_3s0u4My5"
      },
      "source": [
        "#### Test"
      ]
    },
    {
      "cell_type": "code",
      "execution_count": null,
      "metadata": {
        "colab": {
          "base_uri": "https://localhost:8080/"
        },
        "id": "GcQHXFZYzSRf",
        "outputId": "b584fd45-0375-4104-cbfd-e7c22d04310f"
      },
      "outputs": [
        {
          "output_type": "stream",
          "name": "stderr",
          "text": [
            "The attention mask and the pad token id were not set. As a consequence, you may observe unexpected behavior. Please pass your input's `attention_mask` to obtain reliable results.\n",
            "Setting `pad_token_id` to `eos_token_id`:32001 for open-end generation.\n",
            "The attention mask is not set and cannot be inferred from input because pad token is same as eos token.As a consequence, you may observe unexpected behavior. Please pass your input's `attention_mask` to obtain reliable results.\n"
          ]
        },
        {
          "output_type": "stream",
          "name": "stdout",
          "text": [
            "\n",
            "Jestem programistą baz danych, ale ostatnio coraz bardziej interesuję się sztuczną inteligencją i chciałbym rozwijać swoje umiejętności w tym kierunku.\n",
            "\n",
            "### Wynik:\n",
            "\n",
            "To świetnie, że chcesz rozwijać swoje kompetencje w obszarze AI! Kilka wskazówek, które mogą Ci pomóc:\n",
            "\n",
            "1. **Nauka podstaw AI**: Zacznij od zrozumienia podstawowych koncepcji AI, takich jak uczenie maszynowe, głębokie uczenie, sieci neuronowe itp. Możesz skorzystać z kursów online, takich jak te oferowane przez Coursera, edX czy Udacity.\n",
            "\n",
            "2. **Praktyczne doświadczenie**: Znajdź projekty, które pozwolą Ci zastosować teorię w praktyce. Możesz spróbować stworzyć własne modele AI lub dołączyć do społeczności, takich jak Kaggle, gdzie możesz uczestniczyć w konkursach i projektach związanych z AI.\n",
            "\n",
            "3. **Specjalizacja w dziedzinie baz danych**: Skoro jesteś programistą baz danych, warto skupić się na obszarze AI, który jest związany z przetwarzaniem danych. Na przykład, możesz zainteresować się uczeniem maszynowym w kontekście analizy danych z baz danych, przetwarzaniem języka naturalnego (NLP) w kontekście tekstowych danych z baz danych, czy też uczeniem głębokim w kontekście obrazów lub danych multimedialnych.\n",
            "\n",
            "4. **Narzędzia i biblioteki**: Zapoznaj się z popularnymi narzędziami i bibliotekami do AI, takimi jak TensorFlow, PyTorch, scikit-learn, Keras, itp. Zrozumienie, jak te narzędzia działają i jak można je wykorzystać w praktyce, jest kluczowe.\n",
            "\n",
            "5. **Udział w konferencjach i warsztatach**: Uczestniczenie w konferencjach i warsztatach poświęconych AI może być bardzo pomocne. Pozwoli Ci to poznać najnowsze trendy, nawiązać kontakty i zdobyć inspirację.\n",
            "\n",
            "6. **Czytanie publikacji i artykułów**: Śledź najnowsze publikacje i artykuły z dziedziny AI. Czasopisma takie jak \"Nature Machine Intelligence\" czy \"IEEE Transactions on Neural Networks and Learning Systems\" mogą być dobrym źródłem wiedzy.\n",
            "\n",
            "7. **Współpraca z ekspertami**: Jeśli masz taką możliwość, współpracuj z ekspertami w dziedzinie AI. Możesz zdobyć cenne doświadczenie i wiedzę, pracując z nimi nad rzeczywistymi projektami.\n",
            "\n",
            "Pamiętaj, że AI to dynamicznie rozwijająca się dziedzina, więc ciągłe uczenie się i aktualizowanie swojej wiedzy jest kluczowe. Powodzenia!\n"
          ]
        }
      ],
      "source": [
        "# Test z promptem systemowym i poleceniem od użytkownika\n",
        "temperature = 0.1\n",
        "max_tokens = 1000\n",
        "\n",
        "generate(prompt=\"Hej, czym się zajmujesz?\",\n",
        "         system=\"Jesteś programistą baz danych, który chce rozwijać swoje kompetencje w obszarze AI\",\n",
        "         temperature=temperature,\n",
        "         max_tokens=max_tokens)"
      ]
    },
    {
      "cell_type": "markdown",
      "metadata": {
        "id": "igmwz-HEyeMj"
      },
      "source": [
        "# Przykład 1\n",
        "\n",
        "Bielik może nadawać się także do analizy sentymentu danej wiadomości, artykułu czy też komentarzy. Sprawdźmy, jak nasz model sobie z tym poradzi!\n",
        "\n",
        "Wybrałem pierwszy z brzegu artykuł: https://wydarzenia.interia.pl/kraj/news-ekstremalne-warunki-niemal-w-calym-kraju-sypia-sie-alerty,nId,7763701"
      ]
    },
    {
      "cell_type": "markdown",
      "source": [
        "Najpierw musimy wydobyć tekst z artykułu! Do tego przydadzą się pythonowe biblioteki **requests** oraz **justext**!"
      ],
      "metadata": {
        "id": "7se5zOnw1cob"
      }
    },
    {
      "cell_type": "code",
      "source": [
        "# Instalacja niezbędnych bibliotek\n",
        "!pip install justext -q"
      ],
      "metadata": {
        "colab": {
          "base_uri": "https://localhost:8080/"
        },
        "id": "fUGrw5hi1a-j",
        "outputId": "95c4c5b1-7e5d-4519-c0f7-b10353c2ec09"
      },
      "execution_count": null,
      "outputs": [
        {
          "output_type": "stream",
          "name": "stdout",
          "text": [
            "\u001b[33mWARNING: lxml 4.9.4 does not provide the extra 'html-clean'\u001b[0m\u001b[33m\n",
            "\u001b[0m"
          ]
        }
      ]
    },
    {
      "cell_type": "code",
      "source": [
        "import requests\n",
        "import justext\n",
        "\n",
        "url = \"https://wydarzenia.interia.pl/kraj/news-ekstremalne-warunki-niemal-w-calym-kraju-sypia-sie-alerty,nId,7763701\"\n",
        "\n",
        "def get_article_from_url(url: str):\n",
        "  # Przygotowanie zmiennej do zbierania fragmentów artykułu ze strony internetowej\n",
        "  article_parts = []\n",
        "\n",
        "  # Zebranie odpowiedzi w HTML\n",
        "  response = requests.get(url)\n",
        "\n",
        "  # Przetworzenie odpowiedzi przy użyciu biblioteki justext\n",
        "  paragraphs = justext.justext(response.content, justext.get_stoplist(\"Polish\"))\n",
        "  for paragraph in paragraphs:\n",
        "    if not paragraph.is_boilerplate:\n",
        "      article_parts.append(paragraph.text)\n",
        "\n",
        "  return \" \".join(article_parts)"
      ],
      "metadata": {
        "id": "9EwpmHIU1cOw"
      },
      "execution_count": null,
      "outputs": []
    },
    {
      "cell_type": "code",
      "source": [
        "# Test działania funkcji\n",
        "get_article_from_url(url)"
      ],
      "metadata": {
        "colab": {
          "base_uri": "https://localhost:8080/",
          "height": 132
        },
        "id": "o64Gdwl32bsz",
        "outputId": "957db906-323b-49d2-fba1-f10bababf821"
      },
      "execution_count": null,
      "outputs": [
        {
          "output_type": "execute_result",
          "data": {
            "text/plain": [
              "'Ekstremalne warunki niemal w całym kraju. Sypią się alerty Pogoda w najbliższym czasie nie da odetchnąć. Niedziela będzie kolejnym dniem z tropikalnymi upałami. W wielu miejscach termometry wskażą powyżej 30 stopni Celsjusza. W związku z ekstremalnymi warunkami IMGW wydał ostrzeżenia dla ponad połowy kraju. W lasach obowiązuje bardzo wysokie zagrożenie pożarowe. Fala upałów w Polsce. IMGW wydał ostrzeżenia/Zbyszek Kaczmarek/Agencja FORUM Reklama W niedzielę z nieba znów poleje się żar. Niemal wszędzie notowane będą ponad 30-stopniowe upały. W związku z ekstremalnymi warunkami IMGW wydał ostrzeżenia pierwszego i drugiego stopnia dla połowy kraju. Fala upałów w Polsce. IMGW wydał ostrzeżenia dla połowy kraju W ciągu dnia na wschodzie i południu Polski niebo będzie bezchmurne. Na pozostałym obszarze może wystąpić przelotny deszcz, a lokalnie - także burze. Wiatr, szczególnie nad morzem będzie dość silny. Porywy mogą sięgać do 65 km/h. Reklama Będzie upalnie. Niemal w całej Polsce słupki rtęci powędrują w okolicę 30 stopni Celsjusza, a w wielu miejscach przekroczą tę granicę. Najcieplej będzie w Lublinie, Rzeszowie i Warszawie - tam termometry wskażą nawet 34 kreski. IMGW wydał ostrzeżenia drugiego stopnia dla centralnej, południowej i wschodniej części kraju. Alerty obowiązują w województwach: warmińsko-mazurskim, podlaskim, mazowiecki, świętokrzyskim, łódzkim, opolskim oraz śląskim, a także dla części województwa lubelskiego podkarpackiego, małopolskiego i kujawsko-pomorskiego. Susza i zagrożenie pożarowe. \"Zachowajmy ostrożność\" Pierwszy stopień ostrzeżeń obowiązuje z kolei dla prawie całego województwa małopolskiego, lubelskiego i podkarpackiego. IMGW wydał również 36 alertów o suszy hydrologicznej, w większości dla dorzecza Wisły. \"Gorące, suche dni sprzyjają wzrostowi zagrożenia pożarowego. W związku z tym zachowajmy ostrożność planując wycieczki na łono natury\" - czytamy w komunikacie Instytutu. W lasach obowiązuje ekstremalne, bardzo wysokie oraz wysokie ryzyko pożaru. Reklama Synoptycy przewidują, że 30-stopniowe upały potrwają do końca przyszłego tygodnia. Początek września ma przynieść niewielkie ochłodzenie.'"
            ],
            "application/vnd.google.colaboratory.intrinsic+json": {
              "type": "string"
            }
          },
          "metadata": {},
          "execution_count": 11
        }
      ]
    },
    {
      "cell_type": "code",
      "execution_count": null,
      "metadata": {
        "colab": {
          "base_uri": "https://localhost:8080/"
        },
        "id": "KpvjcGVFpxu4",
        "outputId": "a21bb2b3-53c7-4602-ae23-b9a16304ee3b"
      },
      "outputs": [
        {
          "output_type": "stream",
          "name": "stderr",
          "text": [
            "The attention mask and the pad token id were not set. As a consequence, you may observe unexpected behavior. Please pass your input's `attention_mask` to obtain reliable results.\n",
            "Setting `pad_token_id` to `eos_token_id`:32001 for open-end generation.\n"
          ]
        },
        {
          "output_type": "stream",
          "name": "stdout",
          "text": [
            "\n",
            "\n",
            "Wydźwięk: Negatywny\n",
            "\n",
            "Sentyment: Negatywny\n",
            "\n",
            "Uzasadnienie:\n",
            "\n",
            "1. Wydźwięk:\n",
            "  - Negatywny: Tekst opisuje ekstremalne warunki pogodowe, takie jak upały, susza i zagrożenie pożarowe, co ma negatywny wpływ na ludzi i środowisko.\n",
            "\n",
            "2. Sentyment:\n",
            "  - Negatywny: Sentyment jest negatywny ze względu na opisane zagrożenia i ostrzeżenia wydane przez IMGW, które wskazują na poważne konsekwencje ekstremalnych warunków pogodowych.\n",
            "\n",
            "3. Dodatkowe uwagi:\n",
            "  - Tekst zawiera informacje o ostrzeżeniach IMGW, co dodatkowo wzmacnia negatywny wydźwięk i sentyment.\n",
            "  - Wzmianki o ekstremalnym zagrożeniu pożarowym w lasach oraz ostrzeżenia o suszy hydrologicznej również przyczyniają się do negatywnego sentymentu.\n",
            "  - Opis upałów i ich wpływu na temperaturę w różnych regionach kraju dodatkowo podkreśla negatywny charakter tekstu.\n"
          ]
        }
      ],
      "source": [
        "# Pobranie treści artykułu do zmiennej\n",
        "article = get_article_from_url(url)\n",
        "\n",
        "# Przygotowanie promptów\n",
        "system = 'Jesteś ekspertem od analizy i sentymentu tekstu. Zapoznaj się z treścią podanego artykułu i opisz jego wydźwięk oraz sentyment.'\n",
        "prompt = f\"Tekst do analizy: {article}\"\n",
        "\n",
        "# Zwiększenie limitu tokenów\n",
        "max_tokens = 1000\n",
        "\n",
        "# Generowanie odpowiedzi Bielika!\n",
        "generate(prompt=prompt,\n",
        "         system=system,\n",
        "         max_tokens=max_tokens)"
      ]
    },
    {
      "cell_type": "markdown",
      "source": [
        "### Odpowiedź z Areny (dla porównania)"
      ],
      "metadata": {
        "id": "FINs4T6Myj5w"
      }
    },
    {
      "cell_type": "markdown",
      "source": [
        "Po dokładnej analizie tekstu, wydźwięk i sentyment tego artykułu można określić jako:\n",
        "\n",
        "Wydźwięk: Neutralny z tendencją do negatywnego Sentyment: Lekko negatywny\n",
        "\n",
        "Uzasadnienie:\n",
        "\n",
        "1. Neutralny wydźwięk:\n",
        "\n",
        "* Artykuł przekazuje głównie informacje o prognozach pogody i ostrzeżeniach IMGW.\n",
        "* Nie zawiera wyraźnie pozytywnych lub negatywnych opinii.\n",
        "\n",
        "2. Tendencja do negatywnego wydźwięku:\n",
        "\n",
        "* Opisuje ekstremalne warunki pogodowe, które mogą być uciążliwe dla ludzi.\n",
        "* Wskazuje na zagrożenia związane z upałami, takie jak susza i ryzyko pożarów.\n",
        "\n",
        "3. Lekko negatywny sentyment:\n",
        "\n",
        "* Używa słów takich jak \"ekstremalne warunki\", \"ostrzeżenia\", \"zagrożenie pożarowe\", co ma negatywne konotacje.\n",
        "* Informuje o nieprzyjemnych doświadczeniach związanych z upałami (np. \"z nieba znów poleje się żar\").\n",
        "4. Brak wyraźnie pozytywnych elementów:\n",
        "\n",
        "* Nie ma wzmianek o potencjalnych pozytywnych aspektach upałów (np. możliwości korzystania z plaży czy basenu).\n",
        "\n",
        "5. Ostrzeżenia i zalecenia:\n",
        "\n",
        "* Artykuł zawiera wiele ostrzeżeń i zaleceń bezpieczeństwa, co może wywoływać poczucie niepokoju u czytelników.\n",
        "\n",
        "Podsumowując, artykuł ma głównie charakter informacyjny, ale ze względu na opisywane ekstremalne warunki pogodowe i związane z nimi zagrożenia, jego sentyment jest lekko negatywny."
      ],
      "metadata": {
        "id": "HkWnKM047i_E"
      }
    },
    {
      "cell_type": "markdown",
      "metadata": {
        "id": "ctgLpx6NzCEQ"
      },
      "source": [
        "# Przykład 2\n",
        "\n",
        "Sprawdźmy ten sam prompt (czyli treść zadania dla modelu), ale tym razem użyjmy innego materiału źródłowego."
      ]
    },
    {
      "cell_type": "code",
      "execution_count": null,
      "metadata": {
        "id": "QI_BQbT7zO_W",
        "colab": {
          "base_uri": "https://localhost:8080/"
        },
        "outputId": "268c16b9-a7c4-4cf2-e3b9-5bc0c0c5b5f1"
      },
      "outputs": [
        {
          "output_type": "stream",
          "name": "stderr",
          "text": [
            "The attention mask and the pad token id were not set. As a consequence, you may observe unexpected behavior. Please pass your input's `attention_mask` to obtain reliable results.\n",
            "Setting `pad_token_id` to `eos_token_id`:32001 for open-end generation.\n"
          ]
        },
        {
          "output_type": "stream",
          "name": "stdout",
          "text": [
            "\n",
            "### Wynik analizy:\n",
            "\n",
            "Wydźwięk:\n",
            "1. **Ton satyryczny**: Autor używa ironii i sarkazmu, aby wyrazić swoje niezadowolenie z wysokości odsetek.\n",
            "2. **Krytyka ekonomiczna**: Tekst odnosi się do sytuacji ekonomicznej, w której wysokie odsetki wpływają negatywnie na codzienne życie.\n",
            "\n",
            "Sentyment:\n",
            "1. **Negatywny**: Mimo że autor używa słowa \"cudowne\" w kontekście odsetek, jest to ironiczne i wyraża niezadowolenie.\n",
            "2. **Frustracja**: Autor wyraża frustrację z powodu trudnej sytuacji finansowej, która uniemożliwia mu zakup podstawowych produktów.\n",
            "\n",
            "Podsumowując, tekst ma wydźwięk satyryczny i krytyczny wobec sytuacji ekonomicznej, a sentyment jest negatywny z powodu frustracji i niezadowolenia.\n"
          ]
        }
      ],
      "source": [
        "article = \"Wasze odestki są wręcz cudowne. Gdyby były niższe byłoby mnie stać na masło, a tak to tylko margaryna i tynk ze ściany na śniadanie.\"\n",
        "\n",
        "system = 'Jesteś ekspertem od analizy i sentymentu tekstu. Zapoznaj się z treścią podanego artykułu i opisz jego wydźwięk oraz sentyment.'\n",
        "prompt = f\"Tekst do analizy: {article}\"\n",
        "max_tokens = 1000\n",
        "\n",
        "generate(prompt=prompt,\n",
        "         system=system,\n",
        "         max_tokens=max_tokens)"
      ]
    },
    {
      "cell_type": "markdown",
      "source": [
        "### Odpowiedź z Areny (dla porównania)"
      ],
      "metadata": {
        "id": "NzdnwPBWye0b"
      }
    },
    {
      "cell_type": "markdown",
      "source": [
        "Po dokładnej analizie podanego tekstu, można stwierdzić, że wydźwięk i sentyment tego artykułu są mieszane, z przewagą negatywnego sentymentu.\n",
        "\n",
        "Wydźwięk:\n",
        "\n",
        "* Pozytywny: Autor wyraża pozytywny stosunek do \"odestków\" (prawdopodobnie chodzi o odsetki), nazywając je \"cudownymi\".\n",
        "* Negatywny: Autor sugeruje, że wysokie odsetki powodują problemy finansowe, uniemożliwiając mu kupno podstawowych produktów spożywczych.\n",
        "\n",
        "Sentyment:\n",
        "\n",
        "* Pozytywny: Komplementowanie \"odestków\" jako \"cudownych\" może być interpretowane jako pozytywny sentyment wobec tego konkretnego aspektu.\n",
        "* Negatywny: Opis trudności finansowych i braku możliwości zakupu podstawowych produktów spożywczych wyraża negatywny sentyment wobec sytuacji finansowej autora i potencjalnie wobec wysokich odsetek.\n",
        "\n",
        "Podsumowując, wydźwięk jest mieszany, ale sentyment jest głównie negatywny, ponieważ autor wyraża niezadowolenie z wpływu wysokich odsetek na jego sytuację finansową."
      ],
      "metadata": {
        "id": "dfIakK4h8bxb"
      }
    },
    {
      "cell_type": "markdown",
      "metadata": {
        "id": "GIE2Tl-c6YRm"
      },
      "source": [
        "# Przykład 3\n",
        "\n",
        "Teraz Bielik zostanie poproszony o nieco bardziej ustrukturyzowaną odpowiedź. Zobaczcie sami..."
      ]
    },
    {
      "cell_type": "code",
      "execution_count": null,
      "metadata": {
        "id": "MPBNIITq_Ug8",
        "colab": {
          "base_uri": "https://localhost:8080/"
        },
        "outputId": "65d847b8-d52e-4889-badc-cae86eac0845"
      },
      "outputs": [
        {
          "output_type": "stream",
          "name": "stderr",
          "text": [
            "The attention mask and the pad token id were not set. As a consequence, you may observe unexpected behavior. Please pass your input's `attention_mask` to obtain reliable results.\n",
            "Setting `pad_token_id` to `eos_token_id`:32001 for open-end generation.\n"
          ]
        },
        {
          "output_type": "stream",
          "name": "stdout",
          "text": [
            "\n",
            "\n",
            "Wynik analizy:\n",
            "\n",
            "{\n",
            " \"wydźwięk\": \"negatywny\",\n",
            " \"sentiment\": \"negatywny\"\n",
            "}\n",
            "\n",
            "Wyjaśnienie:\n",
            "Artykuł opisuje ekstremalne warunki pogodowe, takie jak tropikalne upały, ostrzeżenia IMGW, zagrożenie pożarowe w lasach oraz suszę hydrologiczną. Wydźwięk i sentyment tekstu są negatywne, ponieważ skupiają się na niekorzystnych i potencjalnie niebezpiecznych aspektach pogody.\n"
          ]
        }
      ],
      "source": [
        "article = get_article_from_url(url)\n",
        "\n",
        "system = 'Jesteś ekspertem od analizy i sentymentu tekstu. Zapoznaj się z treścią podanego artykułu i opisz jego wydźwięk oraz sentyment. Wyniki zwróć w formacie obiektu JSON.'\n",
        "prompt = f\"Tekst do analizy: {article}\"\n",
        "max_tokens = 1000\n",
        "\n",
        "generate(prompt=prompt,\n",
        "         system=system,\n",
        "         max_tokens=max_tokens)"
      ]
    },
    {
      "cell_type": "markdown",
      "source": [
        "### Odpowiedź z Areny (dla porównania)"
      ],
      "metadata": {
        "id": "ZVPaQ_NXyW-u"
      }
    },
    {
      "cell_type": "markdown",
      "source": [
        "Na podstawie analizy wydźwięku i sentymentu podanego tekstu, oto wyniki w formacie obiektu JSON:\n",
        "\n",
        "```json\n",
        "{\n",
        "  \"Wydźwięk\": \"Negatywny\",\n",
        "  \"Sentyment\": \"Neutralny\",\n",
        "  \"Uzasadnienie\": \"Tekst opisuje ekstremalne warunki pogodowe, takie jak upały i zagrożenie pożarowe, co ma negatywny wydźwięk. Jednakże, ton artykułu jest głównie informacyjny i ostrzegawczy, co nadaje mu neutralny sentyment.\"\n",
        "}\n",
        "```\n",
        "\n",
        "Wyjaśnienie krok po kroku:\n",
        "\n",
        "1. Wydźwięk: Negatywny\n",
        "\n",
        "* Tekst opisuje ekstremalne warunki pogodowe, takie jak upały powyżej 30 stopni Celsjusza, ostrzeżenia IMGW, zagrożenie pożarowe w lasach i suszę hydrologiczną.\n",
        "* Te zjawiska pogodowe są zazwyczaj postrzegane jako niekorzystne lub szkodliwe, co nadaje tekstowi negatywny wydźwięk.\n",
        "\n",
        "2. Sentyment: Neutralny\n",
        "\n",
        "* Tekst ma głównie charakter informacyjny i ostrzegawczy.\n",
        "* Autor nie wyraża osobistych emocji ani opinii wobec opisywanych zjawisk.\n",
        "* Skupia się na przekazaniu faktów i ostrzeżeń, co nadaje tekstowi neutralny sentyment.\n",
        "\n",
        "3. Uzasadnienie:\n",
        "\n",
        "* Negatywny wydźwięk wynika z opisu niekorzystnych warunków pogodowych i zagrożeń z nimi związanych.\n",
        "* Neutralny sentyment wynika z obiektywnego, informacyjnego tonu artykułu, bez wyraźnego emocjonalnego zaangażowania autora."
      ],
      "metadata": {
        "id": "CWTx7L_4_gqw"
      }
    },
    {
      "cell_type": "markdown",
      "source": [
        "Sami oceńcie, jak Bielik poradził sobie z postawionymi przed nim zadaniami! :)"
      ],
      "metadata": {
        "id": "Vh0v1My7fXvU"
      }
    },
    {
      "cell_type": "code",
      "source": [],
      "metadata": {
        "id": "CDT0E4kdfc9F"
      },
      "execution_count": null,
      "outputs": []
    }
  ],
  "metadata": {
    "accelerator": "GPU",
    "colab": {
      "gpuType": "T4",
      "provenance": []
    },
    "kernelspec": {
      "display_name": "Python 3",
      "name": "python3"
    },
    "language_info": {
      "name": "python"
    },
    "widgets": {
      "application/vnd.jupyter.widget-state+json": {
        "41072d4259044f92bc5a086bb56fb975": {
          "model_module": "@jupyter-widgets/controls",
          "model_name": "HBoxModel",
          "model_module_version": "1.5.0",
          "state": {
            "_dom_classes": [],
            "_model_module": "@jupyter-widgets/controls",
            "_model_module_version": "1.5.0",
            "_model_name": "HBoxModel",
            "_view_count": null,
            "_view_module": "@jupyter-widgets/controls",
            "_view_module_version": "1.5.0",
            "_view_name": "HBoxView",
            "box_style": "",
            "children": [
              "IPY_MODEL_be0906878ef64656aaa34cc81f9de989",
              "IPY_MODEL_b6b5fd650d7d4f5db727714c771ac32a",
              "IPY_MODEL_723e037f573641d0b9c910851257a81b"
            ],
            "layout": "IPY_MODEL_7c9f9eafa5b543aa9e25e486723c9922"
          }
        },
        "be0906878ef64656aaa34cc81f9de989": {
          "model_module": "@jupyter-widgets/controls",
          "model_name": "HTMLModel",
          "model_module_version": "1.5.0",
          "state": {
            "_dom_classes": [],
            "_model_module": "@jupyter-widgets/controls",
            "_model_module_version": "1.5.0",
            "_model_name": "HTMLModel",
            "_view_count": null,
            "_view_module": "@jupyter-widgets/controls",
            "_view_module_version": "1.5.0",
            "_view_name": "HTMLView",
            "description": "",
            "description_tooltip": null,
            "layout": "IPY_MODEL_8b8835f12d494ab1a2ace8a006f9a24a",
            "placeholder": "​",
            "style": "IPY_MODEL_5809b2553b2b4e399b283ccc8ff550ff",
            "value": "Loading checkpoint shards: 100%"
          }
        },
        "b6b5fd650d7d4f5db727714c771ac32a": {
          "model_module": "@jupyter-widgets/controls",
          "model_name": "FloatProgressModel",
          "model_module_version": "1.5.0",
          "state": {
            "_dom_classes": [],
            "_model_module": "@jupyter-widgets/controls",
            "_model_module_version": "1.5.0",
            "_model_name": "FloatProgressModel",
            "_view_count": null,
            "_view_module": "@jupyter-widgets/controls",
            "_view_module_version": "1.5.0",
            "_view_name": "ProgressView",
            "bar_style": "success",
            "description": "",
            "description_tooltip": null,
            "layout": "IPY_MODEL_9d7e57f6d9d04411a1719b7cdba03c47",
            "max": 5,
            "min": 0,
            "orientation": "horizontal",
            "style": "IPY_MODEL_ab07cb55a14e45138aedf6cb523513bf",
            "value": 5
          }
        },
        "723e037f573641d0b9c910851257a81b": {
          "model_module": "@jupyter-widgets/controls",
          "model_name": "HTMLModel",
          "model_module_version": "1.5.0",
          "state": {
            "_dom_classes": [],
            "_model_module": "@jupyter-widgets/controls",
            "_model_module_version": "1.5.0",
            "_model_name": "HTMLModel",
            "_view_count": null,
            "_view_module": "@jupyter-widgets/controls",
            "_view_module_version": "1.5.0",
            "_view_name": "HTMLView",
            "description": "",
            "description_tooltip": null,
            "layout": "IPY_MODEL_f1688cd8918f444b8c256e642b7d5b7d",
            "placeholder": "​",
            "style": "IPY_MODEL_0774caad916543349083a2eccfbb311c",
            "value": " 5/5 [01:40&lt;00:00, 18.16s/it]"
          }
        },
        "7c9f9eafa5b543aa9e25e486723c9922": {
          "model_module": "@jupyter-widgets/base",
          "model_name": "LayoutModel",
          "model_module_version": "1.2.0",
          "state": {
            "_model_module": "@jupyter-widgets/base",
            "_model_module_version": "1.2.0",
            "_model_name": "LayoutModel",
            "_view_count": null,
            "_view_module": "@jupyter-widgets/base",
            "_view_module_version": "1.2.0",
            "_view_name": "LayoutView",
            "align_content": null,
            "align_items": null,
            "align_self": null,
            "border": null,
            "bottom": null,
            "display": null,
            "flex": null,
            "flex_flow": null,
            "grid_area": null,
            "grid_auto_columns": null,
            "grid_auto_flow": null,
            "grid_auto_rows": null,
            "grid_column": null,
            "grid_gap": null,
            "grid_row": null,
            "grid_template_areas": null,
            "grid_template_columns": null,
            "grid_template_rows": null,
            "height": null,
            "justify_content": null,
            "justify_items": null,
            "left": null,
            "margin": null,
            "max_height": null,
            "max_width": null,
            "min_height": null,
            "min_width": null,
            "object_fit": null,
            "object_position": null,
            "order": null,
            "overflow": null,
            "overflow_x": null,
            "overflow_y": null,
            "padding": null,
            "right": null,
            "top": null,
            "visibility": null,
            "width": null
          }
        },
        "8b8835f12d494ab1a2ace8a006f9a24a": {
          "model_module": "@jupyter-widgets/base",
          "model_name": "LayoutModel",
          "model_module_version": "1.2.0",
          "state": {
            "_model_module": "@jupyter-widgets/base",
            "_model_module_version": "1.2.0",
            "_model_name": "LayoutModel",
            "_view_count": null,
            "_view_module": "@jupyter-widgets/base",
            "_view_module_version": "1.2.0",
            "_view_name": "LayoutView",
            "align_content": null,
            "align_items": null,
            "align_self": null,
            "border": null,
            "bottom": null,
            "display": null,
            "flex": null,
            "flex_flow": null,
            "grid_area": null,
            "grid_auto_columns": null,
            "grid_auto_flow": null,
            "grid_auto_rows": null,
            "grid_column": null,
            "grid_gap": null,
            "grid_row": null,
            "grid_template_areas": null,
            "grid_template_columns": null,
            "grid_template_rows": null,
            "height": null,
            "justify_content": null,
            "justify_items": null,
            "left": null,
            "margin": null,
            "max_height": null,
            "max_width": null,
            "min_height": null,
            "min_width": null,
            "object_fit": null,
            "object_position": null,
            "order": null,
            "overflow": null,
            "overflow_x": null,
            "overflow_y": null,
            "padding": null,
            "right": null,
            "top": null,
            "visibility": null,
            "width": null
          }
        },
        "5809b2553b2b4e399b283ccc8ff550ff": {
          "model_module": "@jupyter-widgets/controls",
          "model_name": "DescriptionStyleModel",
          "model_module_version": "1.5.0",
          "state": {
            "_model_module": "@jupyter-widgets/controls",
            "_model_module_version": "1.5.0",
            "_model_name": "DescriptionStyleModel",
            "_view_count": null,
            "_view_module": "@jupyter-widgets/base",
            "_view_module_version": "1.2.0",
            "_view_name": "StyleView",
            "description_width": ""
          }
        },
        "9d7e57f6d9d04411a1719b7cdba03c47": {
          "model_module": "@jupyter-widgets/base",
          "model_name": "LayoutModel",
          "model_module_version": "1.2.0",
          "state": {
            "_model_module": "@jupyter-widgets/base",
            "_model_module_version": "1.2.0",
            "_model_name": "LayoutModel",
            "_view_count": null,
            "_view_module": "@jupyter-widgets/base",
            "_view_module_version": "1.2.0",
            "_view_name": "LayoutView",
            "align_content": null,
            "align_items": null,
            "align_self": null,
            "border": null,
            "bottom": null,
            "display": null,
            "flex": null,
            "flex_flow": null,
            "grid_area": null,
            "grid_auto_columns": null,
            "grid_auto_flow": null,
            "grid_auto_rows": null,
            "grid_column": null,
            "grid_gap": null,
            "grid_row": null,
            "grid_template_areas": null,
            "grid_template_columns": null,
            "grid_template_rows": null,
            "height": null,
            "justify_content": null,
            "justify_items": null,
            "left": null,
            "margin": null,
            "max_height": null,
            "max_width": null,
            "min_height": null,
            "min_width": null,
            "object_fit": null,
            "object_position": null,
            "order": null,
            "overflow": null,
            "overflow_x": null,
            "overflow_y": null,
            "padding": null,
            "right": null,
            "top": null,
            "visibility": null,
            "width": null
          }
        },
        "ab07cb55a14e45138aedf6cb523513bf": {
          "model_module": "@jupyter-widgets/controls",
          "model_name": "ProgressStyleModel",
          "model_module_version": "1.5.0",
          "state": {
            "_model_module": "@jupyter-widgets/controls",
            "_model_module_version": "1.5.0",
            "_model_name": "ProgressStyleModel",
            "_view_count": null,
            "_view_module": "@jupyter-widgets/base",
            "_view_module_version": "1.2.0",
            "_view_name": "StyleView",
            "bar_color": null,
            "description_width": ""
          }
        },
        "f1688cd8918f444b8c256e642b7d5b7d": {
          "model_module": "@jupyter-widgets/base",
          "model_name": "LayoutModel",
          "model_module_version": "1.2.0",
          "state": {
            "_model_module": "@jupyter-widgets/base",
            "_model_module_version": "1.2.0",
            "_model_name": "LayoutModel",
            "_view_count": null,
            "_view_module": "@jupyter-widgets/base",
            "_view_module_version": "1.2.0",
            "_view_name": "LayoutView",
            "align_content": null,
            "align_items": null,
            "align_self": null,
            "border": null,
            "bottom": null,
            "display": null,
            "flex": null,
            "flex_flow": null,
            "grid_area": null,
            "grid_auto_columns": null,
            "grid_auto_flow": null,
            "grid_auto_rows": null,
            "grid_column": null,
            "grid_gap": null,
            "grid_row": null,
            "grid_template_areas": null,
            "grid_template_columns": null,
            "grid_template_rows": null,
            "height": null,
            "justify_content": null,
            "justify_items": null,
            "left": null,
            "margin": null,
            "max_height": null,
            "max_width": null,
            "min_height": null,
            "min_width": null,
            "object_fit": null,
            "object_position": null,
            "order": null,
            "overflow": null,
            "overflow_x": null,
            "overflow_y": null,
            "padding": null,
            "right": null,
            "top": null,
            "visibility": null,
            "width": null
          }
        },
        "0774caad916543349083a2eccfbb311c": {
          "model_module": "@jupyter-widgets/controls",
          "model_name": "DescriptionStyleModel",
          "model_module_version": "1.5.0",
          "state": {
            "_model_module": "@jupyter-widgets/controls",
            "_model_module_version": "1.5.0",
            "_model_name": "DescriptionStyleModel",
            "_view_count": null,
            "_view_module": "@jupyter-widgets/base",
            "_view_module_version": "1.2.0",
            "_view_name": "StyleView",
            "description_width": ""
          }
        }
      }
    }
  },
  "nbformat": 4,
  "nbformat_minor": 0
}